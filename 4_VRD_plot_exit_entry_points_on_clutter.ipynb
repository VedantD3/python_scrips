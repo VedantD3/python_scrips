{
 "cells": [
  {
   "cell_type": "markdown",
   "id": "5c23946b",
   "metadata": {},
   "source": [
    "# Plot the entry and exit points"
   ]
  },
  {
   "cell_type": "markdown",
   "id": "b95b5b80",
   "metadata": {},
   "source": [
    "#### Script same as ShowTrajectory - modified to plot the exit and entry points on the clutter"
   ]
  },
  {
   "cell_type": "code",
   "execution_count": null,
   "id": "f946e400",
   "metadata": {},
   "outputs": [],
   "source": [
    "import glob\n",
    "import os\n",
    "import pandas as pd\n",
    "\n",
    "import numpy as np\n",
    "from tqdm.notebook import tqdm\n",
    "\n",
    "# matplot\n",
    "import matplotlib as mpl\n",
    "import matplotlib.pyplot as plt\n",
    "from matplotlib.patches import Circle, PathPatch\n",
    "from mpl_toolkits.mplot3d import Axes3D \n",
    "import mpl_toolkits.mplot3d.art3d as art3d\n",
    "import matplotlib.ticker as ticker\n",
    "\n",
    "\n",
    "# To get some interaction\n",
    "from ipywidgets import interactive, interact, widgets\n",
    "# Config\n",
    "import configparser\n",
    "# Our tools\n",
    "from tools.loading import load_conditions_table\n",
    "from tools.plot_trajectory import plot_trajectory\n",
    "import mcampy.core.transforms as tf\n",
    "from navipy.tools.plots import get_color_dataframe\n",
    "from navipy.trajectories import Trajectory\n",
    "from mpl_toolkits.mplot3d.art3d import Line3DCollection\n",
    "\n",
    "\n",
    "# %matplotlib notebook\n",
    "import math\n",
    "\n",
    "%load_ext autoreload\n",
    "%autoreload 2\n",
    "#%matplotlib qt"
   ]
  },
  {
   "cell_type": "code",
   "execution_count": 628,
   "id": "7d7adcc3",
   "metadata": {},
   "outputs": [],
   "source": [
    "# We read the config\n",
    "config = configparser.ConfigParser()\n",
    "config.read(['defaultconfig.ini', 'config.ini']);\n",
    "rootfoldercalib = config['Path']['path2calibrations']\n",
    "rootfolderdata = config['Path']['path2recordings']\n",
    "conditions_fname = config['Path']['path2conditions']\n",
    "path2traj = config['Path']['path2trajectories']\n",
    "obj_file = config['Path']['template2objects']"
   ]
  },
  {
   "cell_type": "code",
   "execution_count": 629,
   "id": "23f27a63",
   "metadata": {},
   "outputs": [],
   "source": [
    "bee_id = '33R'\n",
    "recording = '20210414_134257'"
   ]
  },
  {
   "cell_type": "code",
   "execution_count": 630,
   "id": "4d9d8e16",
   "metadata": {},
   "outputs": [],
   "source": [
    "# get the recording\n",
    "path2traj = os.path.join(path2traj,('{}/'.format(recording)))\n",
    "trajectories_file = glob.glob(os.path.join(path2traj, '*[0-9].csv'))\n",
    "trajectories_file = pd.Series({os.path.basename(os.path.splitext(f)[0]):f for f in trajectories_file})\n"
   ]
  },
  {
   "cell_type": "code",
   "execution_count": null,
   "id": "0f6478f9",
   "metadata": {},
   "outputs": [],
   "source": [
    "# get trajectory csv file ---- traj_nv\n",
    "\n",
    "common_path = '/path/'\n",
    "\n",
    "recording_path = os.path.join(common_path,bee_id,recording_condition)\n",
    "traj_nv = pd.read_csv('{0}/traj_nv_{1}.csv'.format(recording_path,recording_condition))"
   ]
  },
  {
   "cell_type": "code",
   "execution_count": 632,
   "id": "4fb45b28",
   "metadata": {},
   "outputs": [
    {
     "data": {
      "text/html": [
       "<div>\n",
       "<style scoped>\n",
       "    .dataframe tbody tr th:only-of-type {\n",
       "        vertical-align: middle;\n",
       "    }\n",
       "\n",
       "    .dataframe tbody tr th {\n",
       "        vertical-align: top;\n",
       "    }\n",
       "\n",
       "    .dataframe thead th {\n",
       "        text-align: right;\n",
       "    }\n",
       "</style>\n",
       "<table border=\"1\" class=\"dataframe\">\n",
       "  <thead>\n",
       "    <tr style=\"text-align: right;\">\n",
       "      <th></th>\n",
       "      <th>Unnamed: 0</th>\n",
       "      <th>x_mean</th>\n",
       "      <th>y_mean</th>\n",
       "      <th>z_mean</th>\n",
       "      <th>time_mean</th>\n",
       "    </tr>\n",
       "  </thead>\n",
       "  <tbody>\n",
       "    <tr>\n",
       "      <th>0</th>\n",
       "      <td>0</td>\n",
       "      <td>-0.183228</td>\n",
       "      <td>-0.248698</td>\n",
       "      <td>0.290136</td>\n",
       "      <td>5.648</td>\n",
       "    </tr>\n",
       "    <tr>\n",
       "      <th>1</th>\n",
       "      <td>1</td>\n",
       "      <td>-0.128695</td>\n",
       "      <td>0.222592</td>\n",
       "      <td>0.264101</td>\n",
       "      <td>7.776</td>\n",
       "    </tr>\n",
       "    <tr>\n",
       "      <th>2</th>\n",
       "      <td>2</td>\n",
       "      <td>-0.399311</td>\n",
       "      <td>0.016894</td>\n",
       "      <td>0.223120</td>\n",
       "      <td>37.264</td>\n",
       "    </tr>\n",
       "    <tr>\n",
       "      <th>3</th>\n",
       "      <td>3</td>\n",
       "      <td>-0.291917</td>\n",
       "      <td>-0.219970</td>\n",
       "      <td>0.001300</td>\n",
       "      <td>62.976</td>\n",
       "    </tr>\n",
       "  </tbody>\n",
       "</table>\n",
       "</div>"
      ],
      "text/plain": [
       "   Unnamed: 0    x_mean    y_mean    z_mean  time_mean\n",
       "0           0 -0.183228 -0.248698  0.290136      5.648\n",
       "1           1 -0.128695  0.222592  0.264101      7.776\n",
       "2           2 -0.399311  0.016894  0.223120     37.264\n",
       "3           3 -0.291917 -0.219970  0.001300     62.976"
      ]
     },
     "execution_count": 632,
     "metadata": {},
     "output_type": "execute_result"
    }
   ],
   "source": [
    "exit_mid_mean = pd.read_csv('{0}/exitmid_mean_df_{1}.csv'.format(recording_path,recording_condition),\n",
    "                       header=[0]) # in_mid_out direction data\n",
    "exit_mid_mean.head()"
   ]
  },
  {
   "cell_type": "code",
   "execution_count": 633,
   "id": "5f87748c",
   "metadata": {},
   "outputs": [
    {
     "data": {
      "text/html": [
       "<div>\n",
       "<style scoped>\n",
       "    .dataframe tbody tr th:only-of-type {\n",
       "        vertical-align: middle;\n",
       "    }\n",
       "\n",
       "    .dataframe tbody tr th {\n",
       "        vertical-align: top;\n",
       "    }\n",
       "\n",
       "    .dataframe thead th {\n",
       "        text-align: right;\n",
       "    }\n",
       "</style>\n",
       "<table border=\"1\" class=\"dataframe\">\n",
       "  <thead>\n",
       "    <tr style=\"text-align: right;\">\n",
       "      <th></th>\n",
       "      <th>Unnamed: 0</th>\n",
       "      <th>x_mean</th>\n",
       "      <th>y_mean</th>\n",
       "      <th>z_mean</th>\n",
       "      <th>time_mean</th>\n",
       "    </tr>\n",
       "  </thead>\n",
       "  <tbody>\n",
       "    <tr>\n",
       "      <th>0</th>\n",
       "      <td>0</td>\n",
       "      <td>-0.048503</td>\n",
       "      <td>-0.261503</td>\n",
       "      <td>0.265123</td>\n",
       "      <td>4.264</td>\n",
       "    </tr>\n",
       "    <tr>\n",
       "      <th>1</th>\n",
       "      <td>1</td>\n",
       "      <td>-0.219321</td>\n",
       "      <td>-0.002002</td>\n",
       "      <td>0.282017</td>\n",
       "      <td>6.816</td>\n",
       "    </tr>\n",
       "    <tr>\n",
       "      <th>2</th>\n",
       "      <td>2</td>\n",
       "      <td>-0.195302</td>\n",
       "      <td>0.037224</td>\n",
       "      <td>0.289166</td>\n",
       "      <td>8.552</td>\n",
       "    </tr>\n",
       "    <tr>\n",
       "      <th>3</th>\n",
       "      <td>3</td>\n",
       "      <td>0.157068</td>\n",
       "      <td>-0.332056</td>\n",
       "      <td>0.276753</td>\n",
       "      <td>43.184</td>\n",
       "    </tr>\n",
       "    <tr>\n",
       "      <th>4</th>\n",
       "      <td>4</td>\n",
       "      <td>-0.378277</td>\n",
       "      <td>-0.003257</td>\n",
       "      <td>-0.008251</td>\n",
       "      <td>64.024</td>\n",
       "    </tr>\n",
       "  </tbody>\n",
       "</table>\n",
       "</div>"
      ],
      "text/plain": [
       "   Unnamed: 0    x_mean    y_mean    z_mean  time_mean\n",
       "0           0 -0.048503 -0.261503  0.265123      4.264\n",
       "1           1 -0.219321 -0.002002  0.282017      6.816\n",
       "2           2 -0.195302  0.037224  0.289166      8.552\n",
       "3           3  0.157068 -0.332056  0.276753     43.184\n",
       "4           4 -0.378277 -0.003257 -0.008251     64.024"
      ]
     },
     "execution_count": 633,
     "metadata": {},
     "output_type": "execute_result"
    }
   ],
   "source": [
    "entry_mid_mean = pd.read_csv('{0}/entrymid_mean_df_{1}.csv'.format(recording_path,recording_condition),\n",
    "                       header=[0]) # out_mid_in direction data\n",
    "entry_mid_mean.head()"
   ]
  },
  {
   "cell_type": "code",
   "execution_count": 635,
   "id": "8c9e8798",
   "metadata": {},
   "outputs": [
    {
     "data": {
      "text/plain": [
       "'/media/vedant/Docs/MSc_Bhehaviour/Master_Project/git_clone_stuff/flightaltitude/exp_20210413/data/Trajectories/20210414_134257/20210414_134257_20210414_105619.csv'"
      ]
     },
     "execution_count": 635,
     "metadata": {},
     "output_type": "execute_result"
    }
   ],
   "source": [
    "trajectories_file[0] # if chnaged stuff is used, then there will be 0 in [] all the time "
   ]
  },
  {
   "cell_type": "code",
   "execution_count": 636,
   "id": "91f8ee45",
   "metadata": {},
   "outputs": [
    {
     "data": {
      "text/html": [
       "<div>\n",
       "<style scoped>\n",
       "    .dataframe tbody tr th:only-of-type {\n",
       "        vertical-align: middle;\n",
       "    }\n",
       "\n",
       "    .dataframe tbody tr th {\n",
       "        vertical-align: top;\n",
       "    }\n",
       "\n",
       "    .dataframe thead th {\n",
       "        text-align: right;\n",
       "    }\n",
       "</style>\n",
       "<table border=\"1\" class=\"dataframe\">\n",
       "  <thead>\n",
       "    <tr style=\"text-align: right;\">\n",
       "      <th></th>\n",
       "      <th>Unnamed: 0</th>\n",
       "      <th>frame_i</th>\n",
       "      <th>x</th>\n",
       "      <th>y</th>\n",
       "      <th>z</th>\n",
       "      <th>w</th>\n",
       "      <th>bee_distance</th>\n",
       "      <th>timeseries</th>\n",
       "    </tr>\n",
       "  </thead>\n",
       "  <tbody>\n",
       "    <tr>\n",
       "      <th>0</th>\n",
       "      <td>0</td>\n",
       "      <td>6094</td>\n",
       "      <td>-0.664576</td>\n",
       "      <td>-0.279497</td>\n",
       "      <td>0.178553</td>\n",
       "      <td>6.139034e-16</td>\n",
       "      <td>0.720957</td>\n",
       "      <td>0.000</td>\n",
       "    </tr>\n",
       "    <tr>\n",
       "      <th>1</th>\n",
       "      <td>1</td>\n",
       "      <td>6095</td>\n",
       "      <td>-0.650318</td>\n",
       "      <td>-0.278107</td>\n",
       "      <td>0.174295</td>\n",
       "      <td>6.105464e-16</td>\n",
       "      <td>0.707288</td>\n",
       "      <td>0.016</td>\n",
       "    </tr>\n",
       "    <tr>\n",
       "      <th>2</th>\n",
       "      <td>2</td>\n",
       "      <td>6096</td>\n",
       "      <td>-0.641425</td>\n",
       "      <td>-0.278444</td>\n",
       "      <td>0.169414</td>\n",
       "      <td>6.101048e-16</td>\n",
       "      <td>0.699254</td>\n",
       "      <td>0.032</td>\n",
       "    </tr>\n",
       "    <tr>\n",
       "      <th>3</th>\n",
       "      <td>3</td>\n",
       "      <td>6097</td>\n",
       "      <td>-0.627342</td>\n",
       "      <td>-0.276429</td>\n",
       "      <td>0.164956</td>\n",
       "      <td>6.059082e-16</td>\n",
       "      <td>0.685545</td>\n",
       "      <td>0.048</td>\n",
       "    </tr>\n",
       "    <tr>\n",
       "      <th>4</th>\n",
       "      <td>4</td>\n",
       "      <td>6098</td>\n",
       "      <td>-0.615919</td>\n",
       "      <td>-0.275951</td>\n",
       "      <td>0.161344</td>\n",
       "      <td>6.040896e-16</td>\n",
       "      <td>0.674911</td>\n",
       "      <td>0.064</td>\n",
       "    </tr>\n",
       "  </tbody>\n",
       "</table>\n",
       "</div>"
      ],
      "text/plain": [
       "   Unnamed: 0  frame_i         x         y         z             w  \\\n",
       "0           0     6094 -0.664576 -0.279497  0.178553  6.139034e-16   \n",
       "1           1     6095 -0.650318 -0.278107  0.174295  6.105464e-16   \n",
       "2           2     6096 -0.641425 -0.278444  0.169414  6.101048e-16   \n",
       "3           3     6097 -0.627342 -0.276429  0.164956  6.059082e-16   \n",
       "4           4     6098 -0.615919 -0.275951  0.161344  6.040896e-16   \n",
       "\n",
       "   bee_distance  timeseries  \n",
       "0      0.720957       0.000  \n",
       "1      0.707288       0.016  \n",
       "2      0.699254       0.032  \n",
       "3      0.685545       0.048  \n",
       "4      0.674911       0.064  "
      ]
     },
     "execution_count": 636,
     "metadata": {},
     "output_type": "execute_result"
    }
   ],
   "source": [
    "traj_nv.head()"
   ]
  },
  {
   "cell_type": "code",
   "execution_count": 637,
   "id": "4116e38b",
   "metadata": {},
   "outputs": [],
   "source": [
    "traj_clutter = traj_nv[['frame_i','x','y','z','w']]"
   ]
  },
  {
   "cell_type": "code",
   "execution_count": 638,
   "id": "9e9c9700",
   "metadata": {},
   "outputs": [
    {
     "data": {
      "text/html": [
       "<div>\n",
       "<style scoped>\n",
       "    .dataframe tbody tr th:only-of-type {\n",
       "        vertical-align: middle;\n",
       "    }\n",
       "\n",
       "    .dataframe tbody tr th {\n",
       "        vertical-align: top;\n",
       "    }\n",
       "\n",
       "    .dataframe thead th {\n",
       "        text-align: right;\n",
       "    }\n",
       "</style>\n",
       "<table border=\"1\" class=\"dataframe\">\n",
       "  <thead>\n",
       "    <tr style=\"text-align: right;\">\n",
       "      <th></th>\n",
       "      <th>frame_i</th>\n",
       "      <th>x</th>\n",
       "      <th>y</th>\n",
       "      <th>z</th>\n",
       "      <th>w</th>\n",
       "    </tr>\n",
       "  </thead>\n",
       "  <tbody>\n",
       "    <tr>\n",
       "      <th>0</th>\n",
       "      <td>6094</td>\n",
       "      <td>-0.664576</td>\n",
       "      <td>-0.279497</td>\n",
       "      <td>0.178553</td>\n",
       "      <td>6.139034e-16</td>\n",
       "    </tr>\n",
       "    <tr>\n",
       "      <th>1</th>\n",
       "      <td>6095</td>\n",
       "      <td>-0.650318</td>\n",
       "      <td>-0.278107</td>\n",
       "      <td>0.174295</td>\n",
       "      <td>6.105464e-16</td>\n",
       "    </tr>\n",
       "    <tr>\n",
       "      <th>2</th>\n",
       "      <td>6096</td>\n",
       "      <td>-0.641425</td>\n",
       "      <td>-0.278444</td>\n",
       "      <td>0.169414</td>\n",
       "      <td>6.101048e-16</td>\n",
       "    </tr>\n",
       "    <tr>\n",
       "      <th>3</th>\n",
       "      <td>6097</td>\n",
       "      <td>-0.627342</td>\n",
       "      <td>-0.276429</td>\n",
       "      <td>0.164956</td>\n",
       "      <td>6.059082e-16</td>\n",
       "    </tr>\n",
       "    <tr>\n",
       "      <th>4</th>\n",
       "      <td>6098</td>\n",
       "      <td>-0.615919</td>\n",
       "      <td>-0.275951</td>\n",
       "      <td>0.161344</td>\n",
       "      <td>6.040896e-16</td>\n",
       "    </tr>\n",
       "  </tbody>\n",
       "</table>\n",
       "</div>"
      ],
      "text/plain": [
       "   frame_i         x         y         z             w\n",
       "0     6094 -0.664576 -0.279497  0.178553  6.139034e-16\n",
       "1     6095 -0.650318 -0.278107  0.174295  6.105464e-16\n",
       "2     6096 -0.641425 -0.278444  0.169414  6.101048e-16\n",
       "3     6097 -0.627342 -0.276429  0.164956  6.059082e-16\n",
       "4     6098 -0.615919 -0.275951  0.161344  6.040896e-16"
      ]
     },
     "execution_count": 638,
     "metadata": {},
     "output_type": "execute_result"
    }
   ],
   "source": [
    "traj_clutter.dropna().head()"
   ]
  },
  {
   "cell_type": "code",
   "execution_count": 639,
   "id": "56522c88",
   "metadata": {},
   "outputs": [],
   "source": [
    "fps = 62.5"
   ]
  },
  {
   "cell_type": "code",
   "execution_count": 640,
   "id": "927cc6aa",
   "metadata": {},
   "outputs": [],
   "source": [
    "# original original\n",
    "n=5\n",
    "nminute = n*(fps*60)\n",
    "first_frame = traj_clutter.dropna().index[0]\n",
    "selected_traj = traj_clutter[:]\n"
   ]
  },
  {
   "cell_type": "code",
   "execution_count": 641,
   "id": "3fb1e9e7",
   "metadata": {},
   "outputs": [],
   "source": [
    "# loading object positions\n",
    "#object_pos = pd.read_hdf(obj_file,'/object_pos/relative')\n",
    "objectfile = config['Path']['template2objects']\n",
    "object_pos = pd.read_hdf(obj_file,'/object_pos/relative')\n",
    "\n",
    "#object_pos = pd.read_csv(objectfile, index_col = [0])\n",
    "object_pos['z'] = 0 # Because on the floor\n",
    "object_pos/=1000 # Because calibration was done in m (mm->m)"
   ]
  },
  {
   "cell_type": "code",
   "execution_count": 642,
   "id": "fdfc152a",
   "metadata": {},
   "outputs": [],
   "source": [
    "center = pd.read_hdf(obj_file,'/object_pos/center')/1000"
   ]
  },
  {
   "cell_type": "code",
   "execution_count": 643,
   "id": "7ddd0524",
   "metadata": {},
   "outputs": [],
   "source": [
    "is3d = True"
   ]
  },
  {
   "cell_type": "code",
   "execution_count": 644,
   "id": "02543d52",
   "metadata": {},
   "outputs": [
    {
     "data": {
      "text/plain": [
       "0.03"
      ]
     },
     "execution_count": 644,
     "metadata": {},
     "output_type": "execute_result"
    }
   ],
   "source": [
    "nest_loc = object_pos.loc['nest']\n",
    "nest_loc.x"
   ]
  },
  {
   "cell_type": "code",
   "execution_count": 645,
   "id": "75c12946",
   "metadata": {},
   "outputs": [],
   "source": [
    "# Function to get the distance (hypoteneous between two points)\n",
    "def get_hypo(variable_loc,fixed_loc): \n",
    "    \"\"\" Function to get the hypoteneous. It will be used to get the distance between the center and bee location.\"\"\" \n",
    "    \"\"\" Otherwise to get the distance between the nest and bee location\"\"\"\n",
    "    # varial_locParam - location variable in the loop\n",
    "    # focal_loc - fixed location like nest or center\n",
    "    x_coord = variable_loc.x\n",
    "    y_coord = variable_loc.y\n",
    "    distance = list ()\n",
    "    \n",
    "    for ii in range(len(x_coord)):\n",
    "        dist = math.hypot(fixed_loc[0]-x_coord.iloc[ii],fixed_loc[1]-y_coord.iloc[ii])\n",
    "        distance.append(dist)\n",
    "    \n",
    "    return distance"
   ]
  },
  {
   "cell_type": "code",
   "execution_count": 646,
   "id": "f0fb9738",
   "metadata": {},
   "outputs": [],
   "source": [
    "objects_only = object_pos.drop('nest') # Nest is not an object"
   ]
  },
  {
   "cell_type": "code",
   "execution_count": 647,
   "id": "8f73540d",
   "metadata": {},
   "outputs": [],
   "source": [
    "clutter_center = [0,0] #center of the clutter\n",
    "# dsitance between the object and the center of the clutter\n",
    "centerObject_dist = get_hypo(objects_only,clutter_center) "
   ]
  },
  {
   "cell_type": "code",
   "execution_count": 648,
   "id": "227872c9",
   "metadata": {},
   "outputs": [
    {
     "name": "stdout",
     "output_type": "stream",
     "text": [
      "0.3878479083352133\n"
     ]
    }
   ],
   "source": [
    "# slecect the largest distance \n",
    "clutter_center = [0,0] #center of the clutter\n",
    "clut_radius = max(centerObject_dist)\n",
    "clut_height = 0.282 \n",
    "# just to check\n",
    "print(clut_radius)\n",
    "clut_height = 0.282"
   ]
  },
  {
   "cell_type": "code",
   "execution_count": 661,
   "id": "b5931c72",
   "metadata": {
    "scrolled": true
   },
   "outputs": [
    {
     "data": {
      "image/png": "[encoded data removed]",
      "text/plain": [
       "<Figure size 1080x540 with 2 Axes>"
      ]
     },
     "metadata": {
      "needs_background": "light"
     },
     "output_type": "display_data"
    }
   ],
   "source": [
    "# Plot cylinder and objects \n",
    "# code from others - hence not provided\n",
    "\n",
    "#_________Plot nest____________________________________________________________________________________________\n",
    "   \n",
    "nest_x = nest_loc['x']\n",
    "nest_y = nest_loc['y']\n",
    "nest_z = nest_loc['z']\n",
    "nest_radius = 0.02\n",
    "alph = 1\n",
    "\n",
    "#_________________________________________________________________________________________________________________\n",
    "\n",
    "# plot the nest in 3D\n",
    "circle = Circle((nest_x,nest_y), nest_radius, alpha = alph, color = 'black')\n",
    "ax_xyz.add_patch(circle)\n",
    "art3d.pathpatch_2d_to_3d(circle, z=nest_z, zdir='z')\n",
    "\n",
    "# plot the nest in 2D\n",
    "ax_xy.plot(nest_loc['x'],nest_loc['y'], color='black',marker='.',markersize=5,label='nest')\n",
    "ax_xy.plot(0,0, color='black',marker='*',markersize=5,label='nest')\n",
    "\n",
    "\n",
    "# _______________plot the clutter circle and cylinder______________________________________________________\n",
    "\n",
    "clutX_3d,clutY_3d,clutZ_3d = data_for_cylinder_along_z(center_x=0,\n",
    "                                     center_y=0,\n",
    "                                     radius = clut_radius,\n",
    "                                     height_z = obj_height, dim=3)\n",
    "\n",
    "clutX_2d,clutY_2d,_ = data_for_cylinder_along_z(center_x=0,\n",
    "                                     center_y=0,\n",
    "                                     radius = clut_radius,\n",
    "                                     height_z = 0)\n",
    "\n",
    "ax_xyz.plot_surface(clutX_3d,clutY_3d,clutZ_3d, alpha=0.2, color='green')\n",
    "ax_xy.plot(clutX_2d,clutY_2d, alpha=0.3, color='green')\n",
    "\n",
    "\n",
    "#----------------------------------------------------------------------------------------------------------------\n",
    "# plotting the exit and entry points\n",
    "\n",
    "ax_xyz.scatter(exit_mid_mean.x_mean,exit_mid_mean.y_mean,exit_mid_mean.z_mean, marker = '.',alpha=1 , \n",
    "               color='blue',linewidth=2)\n",
    "\n",
    "ax_xy.scatter(exit_mid_mean.x_mean,exit_mid_mean.y_mean,marker = '.' ,alpha=1, color='blue',linewidth=1)\n",
    "\n",
    "ax_xyz.scatter(entry_mid_mean.x_mean,entry_mid_mean.y_mean,entry_mid_mean.z_mean, marker = '.',alpha=1 , \n",
    "               color='orange',linewidth=2)\n",
    "\n",
    "ax_xy.scatter(entry_mid_mean.x_mean,entry_mid_mean.y_mean,marker = '.' ,alpha=1, color='orange',linewidth=1)\n",
    "\n",
    "\n",
    "#----------------------------------------------------------------------------------------------------------------\n",
    "    \n",
    "ax_xyz.axis('off')\n",
    "ax_xy.axis('off')\n",
    "ax_xy.axis('equal')\n",
    "ax_xyz.axis('auto')\n",
    "\n",
    "plt.show()\n"
   ]
  },
  {
   "cell_type": "code",
   "execution_count": 650,
   "id": "47001ddb",
   "metadata": {},
   "outputs": [],
   "source": [
    "# _____________ WILL BE NEEDED ____________________________\n",
    "\n",
    "# fig.savefig(os.path.join((recording_path),('/entry_exit_{}.svg'.format(recording))))\n",
    "check_fig = os.path.exists('{0}/Onradius_{1}_{2}_entry_exit.png'.format(recording_path,recording,bee_id))\n",
    "if not check_fig:\n",
    "    fig.savefig(('{0}/Onradius_{1}_{2}_entry_exit.png'.format(recording_path,recording,bee_id)))"
   ]
  }
 ],
 "metadata": {
  "kernelspec": {
   "display_name": "Python 3 (ipykernel)",
   "language": "python",
   "name": "python3"
  },
  "language_info": {
   "codemirror_mode": {
    "name": "ipython",
    "version": 3
   },
   "file_extension": ".py",
   "mimetype": "text/x-python",
   "name": "python",
   "nbconvert_exporter": "python",
   "pygments_lexer": "ipython3",
   "version": "3.8.5"
  }
 },
 "nbformat": 4,
 "nbformat_minor": 5
}
