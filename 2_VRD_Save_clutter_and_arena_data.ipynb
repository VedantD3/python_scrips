{
 "cells": [
  {
   "cell_type": "markdown",
   "id": "68055b4d",
   "metadata": {},
   "source": [
    "# Getting data common for all the flights -- clutter and arena data"
   ]
  },
  {
   "cell_type": "code",
   "execution_count": 1,
   "id": "13759970",
   "metadata": {},
   "outputs": [
    {
     "data": {
      "image/png": "[encoded data removed]",
      "text/plain": [
       "<Figure size 432x288 with 1 Axes>"
      ]
     },
     "metadata": {
      "needs_background": "light"
     },
     "output_type": "display_data"
    }
   ],
   "source": [
    "import glob\n",
    "import os\n",
    "import pandas as pd\n",
    "\n",
    "import numpy as np\n",
    "from tqdm.notebook import tqdm\n",
    "\n",
    "# matplot\n",
    "import matplotlib as mpl\n",
    "import matplotlib.pyplot as plt\n",
    "from matplotlib.patches import Circle, PathPatch\n",
    "from mpl_toolkits.mplot3d import Axes3D \n",
    "import mpl_toolkits.mplot3d.art3d as art3d\n",
    "import matplotlib.ticker as ticker\n",
    "\n",
    "\n",
    "# To get some interaction\n",
    "from ipywidgets import interactive, interact, widgets\n",
    "# Config\n",
    "import configparser\n",
    "# Our tools\n",
    "from tools.loading import load_conditions_table\n",
    "from tools.plot_trajectory import plot_trajectory\n",
    "import mcampy.core.transforms as tf\n",
    "from navipy.tools.plots import get_color_dataframe\n",
    "from navipy.trajectories import Trajectory\n",
    "from mpl_toolkits.mplot3d.art3d import Line3DCollection\n",
    "\n",
    "\n",
    "# %matplotlib notebook\n",
    "import math\n",
    "\n",
    "%load_ext autoreload\n",
    "%autoreload 2\n",
    "#%matplotlib qt"
   ]
  },
  {
   "cell_type": "markdown",
   "id": "f6efe5bb",
   "metadata": {},
   "source": [
    "# Part1 - Getting required data "
   ]
  },
  {
   "cell_type": "code",
   "execution_count": 2,
   "id": "dda8c28c",
   "metadata": {},
   "outputs": [],
   "source": [
    "# code from others"
   ]
  },
  {
   "cell_type": "code",
   "execution_count": 3,
   "id": "153f2d65",
   "metadata": {},
   "outputs": [],
   "source": [
    "insect_id = '1R' # tag id of the insect\n",
    "recording = '20210414_165225' # file name"
   ]
  },
  {
   "cell_type": "code",
   "execution_count": 4,
   "id": "2a98fec6",
   "metadata": {},
   "outputs": [],
   "source": [
    "# get trajectory csv file ---- traj_nv\n",
    "common_path = '/path/' # common path \n"
   ]
  },
  {
   "cell_type": "code",
   "execution_count": null,
   "id": "632c79f6",
   "metadata": {},
   "outputs": [],
   "source": [
    "# recording path\n",
    "recording_path = os.path.join(common_path,bee_id,recording)\n"
   ]
  },
  {
   "cell_type": "code",
   "execution_count": null,
   "id": "9dce8c01",
   "metadata": {},
   "outputs": [],
   "source": [
    "# Trajectory data\n",
    "traj_data = pd.read_csv(os.path.join(recording_path,('traj_nv_{}.csv'.format(recording))))"
   ]
  },
  {
   "cell_type": "code",
   "execution_count": 5,
   "id": "12e1e34d",
   "metadata": {},
   "outputs": [],
   "source": [
    "# loading object positions of the experimental arena\n",
    "\n",
    "# code from others"
   ]
  },
  {
   "cell_type": "code",
   "execution_count": 6,
   "id": "c209b1b7",
   "metadata": {},
   "outputs": [
    {
     "data": {
      "text/plain": [
       "0.03"
      ]
     },
     "execution_count": 6,
     "metadata": {},
     "output_type": "execute_result"
    }
   ],
   "source": [
    "# getting nest location\n",
    "nest_loc = object_pos.loc['nest']\n",
    "nest_loc.x"
   ]
  },
  {
   "cell_type": "code",
   "execution_count": 7,
   "id": "23f212f7",
   "metadata": {},
   "outputs": [],
   "source": [
    "# Function to get the distance (hypoteneous between two points)\n",
    "\n",
    "def get_hypo(variable_loc,fixed_loc): \n",
    "    \"\"\" Function to get the hypoteneous. It will be used to get the distance between the center and bee location.\"\"\" \n",
    "    \"\"\" Otherwise to get the distance between the nest and bee location\"\"\"\n",
    "    # varial_locParam - location variable in the loop\n",
    "    # focal_loc - fixed location like nest or center\n",
    "    x_coord = variable_loc.x\n",
    "    y_coord = variable_loc.y\n",
    "    distance = list ()\n",
    "    \n",
    "    for ii in range(len(x_coord)):\n",
    "        dist = math.hypot(fixed_loc[0]-x_coord.iloc[ii],fixed_loc[1]-y_coord.iloc[ii])\n",
    "        distance.append(dist)\n",
    "    \n",
    "    return distance\n"
   ]
  },
  {
   "cell_type": "code",
   "execution_count": 8,
   "id": "8b72f7df",
   "metadata": {},
   "outputs": [],
   "source": [
    "objects_only = object_pos.drop('nest') # Nest is not an object"
   ]
  },
  {
   "cell_type": "code",
   "execution_count": 9,
   "id": "afbe55c6",
   "metadata": {},
   "outputs": [],
   "source": [
    "clutter_center = [0,0] #center of the clutter\n",
    "# dsitance between the object and the center of the clutter\n",
    "centerObject_dist = get_hypo(objects_only,clutter_center) "
   ]
  },
  {
   "cell_type": "code",
   "execution_count": 10,
   "id": "93d897c4",
   "metadata": {},
   "outputs": [
    {
     "data": {
      "text/html": [
       "<div>\n",
       "<style scoped>\n",
       "    .dataframe tbody tr th:only-of-type {\n",
       "        vertical-align: middle;\n",
       "    }\n",
       "\n",
       "    .dataframe tbody tr th {\n",
       "        vertical-align: top;\n",
       "    }\n",
       "\n",
       "    .dataframe thead th {\n",
       "        text-align: right;\n",
       "    }\n",
       "</style>\n",
       "<table border=\"1\" class=\"dataframe\">\n",
       "  <thead>\n",
       "    <tr style=\"text-align: right;\">\n",
       "      <th></th>\n",
       "      <th>x</th>\n",
       "      <th>y</th>\n",
       "      <th>z</th>\n",
       "    </tr>\n",
       "  </thead>\n",
       "  <tbody>\n",
       "    <tr>\n",
       "      <th>0</th>\n",
       "      <td>-0.224</td>\n",
       "      <td>-0.039</td>\n",
       "      <td>0.0</td>\n",
       "    </tr>\n",
       "    <tr>\n",
       "      <th>1</th>\n",
       "      <td>-0.044</td>\n",
       "      <td>-0.343</td>\n",
       "      <td>0.0</td>\n",
       "    </tr>\n",
       "    <tr>\n",
       "      <th>2</th>\n",
       "      <td>-0.158</td>\n",
       "      <td>0.057</td>\n",
       "      <td>0.0</td>\n",
       "    </tr>\n",
       "    <tr>\n",
       "      <th>3</th>\n",
       "      <td>0.382</td>\n",
       "      <td>-0.033</td>\n",
       "      <td>0.0</td>\n",
       "    </tr>\n",
       "    <tr>\n",
       "      <th>4</th>\n",
       "      <td>-0.109</td>\n",
       "      <td>-0.043</td>\n",
       "      <td>0.0</td>\n",
       "    </tr>\n",
       "    <tr>\n",
       "      <th>5</th>\n",
       "      <td>-0.018</td>\n",
       "      <td>-0.117</td>\n",
       "      <td>0.0</td>\n",
       "    </tr>\n",
       "    <tr>\n",
       "      <th>6</th>\n",
       "      <td>0.277</td>\n",
       "      <td>-0.192</td>\n",
       "      <td>0.0</td>\n",
       "    </tr>\n",
       "    <tr>\n",
       "      <th>7</th>\n",
       "      <td>0.125</td>\n",
       "      <td>0.141</td>\n",
       "      <td>0.0</td>\n",
       "    </tr>\n",
       "    <tr>\n",
       "      <th>8</th>\n",
       "      <td>0.229</td>\n",
       "      <td>-0.115</td>\n",
       "      <td>0.0</td>\n",
       "    </tr>\n",
       "    <tr>\n",
       "      <th>9</th>\n",
       "      <td>-0.202</td>\n",
       "      <td>-0.150</td>\n",
       "      <td>0.0</td>\n",
       "    </tr>\n",
       "    <tr>\n",
       "      <th>10</th>\n",
       "      <td>-0.005</td>\n",
       "      <td>0.160</td>\n",
       "      <td>0.0</td>\n",
       "    </tr>\n",
       "    <tr>\n",
       "      <th>11</th>\n",
       "      <td>-0.346</td>\n",
       "      <td>0.081</td>\n",
       "      <td>0.0</td>\n",
       "    </tr>\n",
       "    <tr>\n",
       "      <th>12</th>\n",
       "      <td>0.003</td>\n",
       "      <td>-0.257</td>\n",
       "      <td>0.0</td>\n",
       "    </tr>\n",
       "    <tr>\n",
       "      <th>13</th>\n",
       "      <td>0.264</td>\n",
       "      <td>0.094</td>\n",
       "      <td>0.0</td>\n",
       "    </tr>\n",
       "    <tr>\n",
       "      <th>14</th>\n",
       "      <td>0.119</td>\n",
       "      <td>-0.225</td>\n",
       "      <td>0.0</td>\n",
       "    </tr>\n",
       "    <tr>\n",
       "      <th>15</th>\n",
       "      <td>-0.193</td>\n",
       "      <td>0.280</td>\n",
       "      <td>0.0</td>\n",
       "    </tr>\n",
       "    <tr>\n",
       "      <th>16</th>\n",
       "      <td>-0.046</td>\n",
       "      <td>0.302</td>\n",
       "      <td>0.0</td>\n",
       "    </tr>\n",
       "    <tr>\n",
       "      <th>17</th>\n",
       "      <td>0.001</td>\n",
       "      <td>0.016</td>\n",
       "      <td>0.0</td>\n",
       "    </tr>\n",
       "    <tr>\n",
       "      <th>18</th>\n",
       "      <td>0.166</td>\n",
       "      <td>0.268</td>\n",
       "      <td>0.0</td>\n",
       "    </tr>\n",
       "    <tr>\n",
       "      <th>19</th>\n",
       "      <td>-0.185</td>\n",
       "      <td>-0.322</td>\n",
       "      <td>0.0</td>\n",
       "    </tr>\n",
       "    <tr>\n",
       "      <th>20</th>\n",
       "      <td>0.272</td>\n",
       "      <td>-0.006</td>\n",
       "      <td>0.0</td>\n",
       "    </tr>\n",
       "    <tr>\n",
       "      <th>21</th>\n",
       "      <td>0.165</td>\n",
       "      <td>-0.327</td>\n",
       "      <td>0.0</td>\n",
       "    </tr>\n",
       "    <tr>\n",
       "      <th>22</th>\n",
       "      <td>-0.348</td>\n",
       "      <td>-0.016</td>\n",
       "      <td>0.0</td>\n",
       "    </tr>\n",
       "    <tr>\n",
       "      <th>23</th>\n",
       "      <td>-0.113</td>\n",
       "      <td>-0.225</td>\n",
       "      <td>0.0</td>\n",
       "    </tr>\n",
       "    <tr>\n",
       "      <th>24</th>\n",
       "      <td>-0.299</td>\n",
       "      <td>-0.157</td>\n",
       "      <td>0.0</td>\n",
       "    </tr>\n",
       "    <tr>\n",
       "      <th>25</th>\n",
       "      <td>-0.108</td>\n",
       "      <td>0.182</td>\n",
       "      <td>0.0</td>\n",
       "    </tr>\n",
       "    <tr>\n",
       "      <th>26</th>\n",
       "      <td>0.122</td>\n",
       "      <td>-0.043</td>\n",
       "      <td>0.0</td>\n",
       "    </tr>\n",
       "    <tr>\n",
       "      <th>27</th>\n",
       "      <td>0.070</td>\n",
       "      <td>-0.138</td>\n",
       "      <td>0.0</td>\n",
       "    </tr>\n",
       "    <tr>\n",
       "      <th>28</th>\n",
       "      <td>0.375</td>\n",
       "      <td>0.099</td>\n",
       "      <td>0.0</td>\n",
       "    </tr>\n",
       "    <tr>\n",
       "      <th>29</th>\n",
       "      <td>-0.300</td>\n",
       "      <td>0.174</td>\n",
       "      <td>0.0</td>\n",
       "    </tr>\n",
       "    <tr>\n",
       "      <th>30</th>\n",
       "      <td>0.296</td>\n",
       "      <td>0.210</td>\n",
       "      <td>0.0</td>\n",
       "    </tr>\n",
       "    <tr>\n",
       "      <th>31</th>\n",
       "      <td>-0.250</td>\n",
       "      <td>-0.240</td>\n",
       "      <td>0.0</td>\n",
       "    </tr>\n",
       "    <tr>\n",
       "      <th>32</th>\n",
       "      <td>0.081</td>\n",
       "      <td>0.324</td>\n",
       "      <td>0.0</td>\n",
       "    </tr>\n",
       "    <tr>\n",
       "      <th>33</th>\n",
       "      <td>0.148</td>\n",
       "      <td>0.048</td>\n",
       "      <td>0.0</td>\n",
       "    </tr>\n",
       "    <tr>\n",
       "      <th>34</th>\n",
       "      <td>-0.254</td>\n",
       "      <td>0.066</td>\n",
       "      <td>0.0</td>\n",
       "    </tr>\n",
       "    <tr>\n",
       "      <th>35</th>\n",
       "      <td>0.260</td>\n",
       "      <td>-0.282</td>\n",
       "      <td>0.0</td>\n",
       "    </tr>\n",
       "    <tr>\n",
       "      <th>36</th>\n",
       "      <td>0.052</td>\n",
       "      <td>0.233</td>\n",
       "      <td>0.0</td>\n",
       "    </tr>\n",
       "    <tr>\n",
       "      <th>37</th>\n",
       "      <td>0.320</td>\n",
       "      <td>-0.108</td>\n",
       "      <td>0.0</td>\n",
       "    </tr>\n",
       "    <tr>\n",
       "      <th>38</th>\n",
       "      <td>0.046</td>\n",
       "      <td>-0.370</td>\n",
       "      <td>0.0</td>\n",
       "    </tr>\n",
       "    <tr>\n",
       "      <th>39</th>\n",
       "      <td>-0.120</td>\n",
       "      <td>0.359</td>\n",
       "      <td>0.0</td>\n",
       "    </tr>\n",
       "  </tbody>\n",
       "</table>\n",
       "</div>"
      ],
      "text/plain": [
       "        x      y    z\n",
       "0  -0.224 -0.039  0.0\n",
       "1  -0.044 -0.343  0.0\n",
       "2  -0.158  0.057  0.0\n",
       "3   0.382 -0.033  0.0\n",
       "4  -0.109 -0.043  0.0\n",
       "5  -0.018 -0.117  0.0\n",
       "6   0.277 -0.192  0.0\n",
       "7   0.125  0.141  0.0\n",
       "8   0.229 -0.115  0.0\n",
       "9  -0.202 -0.150  0.0\n",
       "10 -0.005  0.160  0.0\n",
       "11 -0.346  0.081  0.0\n",
       "12  0.003 -0.257  0.0\n",
       "13  0.264  0.094  0.0\n",
       "14  0.119 -0.225  0.0\n",
       "15 -0.193  0.280  0.0\n",
       "16 -0.046  0.302  0.0\n",
       "17  0.001  0.016  0.0\n",
       "18  0.166  0.268  0.0\n",
       "19 -0.185 -0.322  0.0\n",
       "20  0.272 -0.006  0.0\n",
       "21  0.165 -0.327  0.0\n",
       "22 -0.348 -0.016  0.0\n",
       "23 -0.113 -0.225  0.0\n",
       "24 -0.299 -0.157  0.0\n",
       "25 -0.108  0.182  0.0\n",
       "26  0.122 -0.043  0.0\n",
       "27  0.070 -0.138  0.0\n",
       "28  0.375  0.099  0.0\n",
       "29 -0.300  0.174  0.0\n",
       "30  0.296  0.210  0.0\n",
       "31 -0.250 -0.240  0.0\n",
       "32  0.081  0.324  0.0\n",
       "33  0.148  0.048  0.0\n",
       "34 -0.254  0.066  0.0\n",
       "35  0.260 -0.282  0.0\n",
       "36  0.052  0.233  0.0\n",
       "37  0.320 -0.108  0.0\n",
       "38  0.046 -0.370  0.0\n",
       "39 -0.120  0.359  0.0"
      ]
     },
     "execution_count": 10,
     "metadata": {},
     "output_type": "execute_result"
    }
   ],
   "source": [
    "objects_only"
   ]
  },
  {
   "cell_type": "code",
   "execution_count": 11,
   "id": "4c6504bb",
   "metadata": {},
   "outputs": [
    {
     "name": "stdout",
     "output_type": "stream",
     "text": [
      "0.3878479083352133\n"
     ]
    }
   ],
   "source": [
    "# slecect the largest distance \n",
    "clutter_center = [0,0] #center of the clutter\n",
    "clut_radius = max(centerObject_dist)\n",
    "# just to check\n",
    "print(clut_radius)\n",
    "clut_height = 0.282"
   ]
  },
  {
   "cell_type": "code",
   "execution_count": 12,
   "id": "9fbba770",
   "metadata": {},
   "outputs": [],
   "source": [
    "# saving clutter data (radius and height)\n",
    "data = {'radius':[clut_radius], 'height':[clut_height],'nest_loc_x':[nest_loc.x],'nest_loc_y':[nest_loc.y]}\n",
    "clutter_data = pd.DataFrame(data)\n",
    "# df.rename(columns=df.iloc[0]).drop(df.index[0])"
   ]
  },
  {
   "cell_type": "code",
   "execution_count": 13,
   "id": "66e1eb7a",
   "metadata": {
    "scrolled": true
   },
   "outputs": [
    {
     "data": {
      "text/html": [
       "<div>\n",
       "<style scoped>\n",
       "    .dataframe tbody tr th:only-of-type {\n",
       "        vertical-align: middle;\n",
       "    }\n",
       "\n",
       "    .dataframe tbody tr th {\n",
       "        vertical-align: top;\n",
       "    }\n",
       "\n",
       "    .dataframe thead th {\n",
       "        text-align: right;\n",
       "    }\n",
       "</style>\n",
       "<table border=\"1\" class=\"dataframe\">\n",
       "  <thead>\n",
       "    <tr style=\"text-align: right;\">\n",
       "      <th></th>\n",
       "      <th>radius</th>\n",
       "      <th>height</th>\n",
       "      <th>nest_loc_x</th>\n",
       "      <th>nest_loc_y</th>\n",
       "    </tr>\n",
       "  </thead>\n",
       "  <tbody>\n",
       "    <tr>\n",
       "      <th>0</th>\n",
       "      <td>0.387848</td>\n",
       "      <td>0.282</td>\n",
       "      <td>0.03</td>\n",
       "      <td>0.1</td>\n",
       "    </tr>\n",
       "  </tbody>\n",
       "</table>\n",
       "</div>"
      ],
      "text/plain": [
       "     radius  height  nest_loc_x  nest_loc_y\n",
       "0  0.387848   0.282        0.03         0.1"
      ]
     },
     "execution_count": 13,
     "metadata": {},
     "output_type": "execute_result"
    }
   ],
   "source": [
    "clutter_data"
   ]
  },
  {
   "cell_type": "code",
   "execution_count": 14,
   "id": "f5526ced",
   "metadata": {},
   "outputs": [],
   "source": [
    "# ----------------------------------------------------------------------------------------------------------"
   ]
  },
  {
   "cell_type": "markdown",
   "id": "acf7ee5d",
   "metadata": {},
   "source": [
    "# getting the angle between three points - A,B and C\n",
    "**A = arbitrarily defined point for reference which is (0,radius)**\n",
    "\n",
    "**B = clutter center which is (0,0)**\n",
    "\n",
    "**C = nest_coordinates**"
   ]
  },
  {
   "cell_type": "code",
   "execution_count": 15,
   "id": "70c3b878",
   "metadata": {},
   "outputs": [
    {
     "data": {
      "text/plain": [
       "16.69924423399362"
      ]
     },
     "execution_count": 15,
     "metadata": {},
     "output_type": "execute_result"
    }
   ],
   "source": [
    "# getting the angle between three points - A=(0,clut_radius), B=clutter_centeri.e,(0,0), C=nest_coordinates\n",
    "angle_rad = np.arctan2((nest_loc.x - 0),(nest_loc.y - 0)) - np.arctan2((0-0),(clut_radius-0))\n",
    "angle_deg = np.degrees(angle_rad)\n",
    "\n",
    "# ----------------------------- alternative -------------------------------------------------\n",
    "# vector1 = [0,clut_radius]\n",
    "# vector2 = [(nest_loc.x),(nest_loc.y)]\n",
    "\n",
    "# unit_vector1 = vector1 / np.linalg.norm(vector1)\n",
    "# unit_vector2 = vector2 / np.linalg.norm(vector2)\n",
    "\n",
    "# dot_product = np.dot(unit_vector1, unit_vector2)\n",
    "\n",
    "# angle_rad = np.arccos(dot_product) #angle in radian\n",
    "# angle_deg = np.rad2deg(angle_rad) \n",
    "\n",
    "angle_deg"
   ]
  },
  {
   "cell_type": "markdown",
   "id": "cf0c95f1",
   "metadata": {},
   "source": [
    "# # Getting the coordinates of a new reference point\n",
    "** getting the coordinates of a, which in in the direction of center-nest at the distance=radius**\n",
    "\n",
    "** necessary to get the angle keeping nest as the NEW center**"
   ]
  },
  {
   "cell_type": "code",
   "execution_count": 16,
   "id": "9c26474e",
   "metadata": {},
   "outputs": [
    {
     "name": "stdout",
     "output_type": "stream",
     "text": [
      "0.1114472763814533\n",
      "0.371490921271511\n",
      "[0.1114472763814533, 0.371490921271511]\n"
     ]
    }
   ],
   "source": [
    "# other point is the point on the clutter circuference in the direction of center and the nest  \n",
    "getting the coordinates of other point whihc is at the \"distance = clutter radius\"\n",
    "# and angle is \"angle_deg\" from the point (0,r)\n",
    "\n",
    "# need to get the angles with respect to the nest\n",
    "other_point_x = clut_radius*np.sin(angle_rad)\n",
    "print(other_point_x)\n",
    "\n",
    "other_point_y = clut_radius*np.cos(angle_rad)\n",
    "print(other_point_y)\n",
    "\n",
    "other_point = [other_point_x,other_point_y]\n",
    "print(other_point)"
   ]
  },
  {
   "cell_type": "markdown",
   "id": "2631d644",
   "metadata": {},
   "source": [
    "# # Get the circumference coordinates of the clutter\n",
    "\n",
    "plotting the circumference points"
   ]
  },
  {
   "cell_type": "code",
   "execution_count": 18,
   "id": "f7c98063",
   "metadata": {
    "scrolled": false
   },
   "outputs": [
    {
     "name": "stdout",
     "output_type": "stream",
     "text": [
      "pygame 2.1.2 (SDL 2.0.16, Python 3.8.5)\n",
      "Hello from the pygame community. https://www.pygame.org/contribute.html\n"
     ]
    }
   ],
   "source": [
    "from pygame.math import Vector2"
   ]
  },
  {
   "cell_type": "code",
   "execution_count": 19,
   "id": "690981be",
   "metadata": {
    "scrolled": false
   },
   "outputs": [],
   "source": [
    "angle = 360/360\n",
    "circum_coord_list = []\n",
    "for ii in range(360): \n",
    "    vec = clutter_center + Vector2(clut_radius,0).rotate(ii*angle)\n",
    "#     print(vec.y)\n",
    "    circum_coord_list.append([(vec.x),(vec.y)]) # circumference coordinates"
   ]
  },
  {
   "cell_type": "code",
   "execution_count": 38,
   "id": "0347b6b3",
   "metadata": {},
   "outputs": [
    {
     "data": {
      "text/plain": [
       "[[0.3878479083352133, 0.0],\n",
       " [0.38778883722019036, 0.006768879332116422],\n",
       " [0.3876116418687553, 0.013535696798016675],\n",
       " [0.3873163762563287, 0.020298391159549012],\n",
       " [0.3869031303236764, 0.027054902434499224],\n",
       " [0.3863720299495128, 0.03380317252408116],\n",
       " [0.38572323691215665, 0.04054114583985357],\n",
       " [0.38495694884025217, 0.04726676992987227],\n",
       " [0.38407339915256933, 0.05397799610388685],\n",
       " [0.38307285698690197, 0.060672780057391594],\n",
       " [0.3819556271180863, 0.06734908249434043],\n",
       " [0.3807220498651632, 0.0740048697483363],\n",
       " [0.3793725009877139, 0.08063811440210553],\n",
       " [0.3779073915713998, 0.08724679590506894],\n",
       " [0.3763271679027419, 0.09382890118882098],\n",
       " [0.37463231133317776, 0.10038242528032991],\n",
       " [0.3728233381324368, 0.10690537191267208],\n",
       " [0.3709007993312799, 0.11339575413311406],\n",
       " [0.36886528055365003, 0.11985159490835773],\n",
       " [0.36671740183828533, 0.12627092772676385],\n",
       " [0.3644578174498494, 0.13265179719737047],\n",
       " [0.36208721567963603, 0.13899225964552397],\n",
       " [0.35960631863590914, 0.14529038370494116],\n",
       " [0.3570158820239411, 0.15154425090602228],\n",
       " [0.35431669491581796, 0.1577519562602353],\n",
       " [0.35150957951008066, 0.163911608840394],\n",
       " [0.34859539088127484, 0.17002133235665243],\n",
       " [0.34557501671948715, 0.17607926572804142],\n",
       " [0.3424493770599464, 0.18208356364937153],\n",
       " [0.3392194240027715, 0.18803239715333092],\n",
       " [0.3358861414229531, 0.19392395416760663],\n",
       " [0.3324505446706551, 0.19975644006685941],\n",
       " [0.3289136802619297, 0.20552807821938374],\n",
       " [0.32527662555993814, 0.21123711052828725],\n",
       " [0.3215404884467755, 0.21688179796702403],\n",
       " [0.3177064069859995, 0.22246042110911882],\n",
       " [0.3137755490759644, 0.22797128065192135],\n",
       " [0.30974911209406875, 0.2334126979342299],\n",
       " [0.30562832253202227, 0.23878301544762806],\n",
       " [0.30141443562224446, 0.24408059734137794],\n",
       " [0.29710873495550894, 0.24930382992071576],\n",
       " [0.2927125320899491, 0.25445112213839927],\n",
       " [0.2882271661515445, 0.2595209060793562],\n",
       " [0.283654003426211, 0.2645116374382857],\n",
       " [0.27899443694361586, 0.2694217959900698],\n",
       " [0.27424988605284784, 0.2742498860528478],\n",
       " [0.2694217959900699, 0.2789944369436158],\n",
       " [0.2645116374382857, 0.283654003426211],\n",
       " [0.2595209060793562, 0.2882271661515445],\n",
       " [0.2544511221383993, 0.292712532089949],\n",
       " [0.24930382992071579, 0.29710873495550894],\n",
       " [0.24408059734137796, 0.30141443562224446],\n",
       " [0.23878301544762812, 0.30562832253202227],\n",
       " [0.23341269793422995, 0.30974911209406875],\n",
       " [0.22797128065192135, 0.3137755490759644],\n",
       " [0.22246042110911887, 0.3177064069859995],\n",
       " [0.216881797967024, 0.3215404884467756],\n",
       " [0.2112371105282873, 0.3252766255599381],\n",
       " [0.20552807821938374, 0.3289136802619297],\n",
       " [0.1997564400668595, 0.33245054467065505],\n",
       " [0.19392395416760672, 0.33588614142295303],\n",
       " [0.18803239715333095, 0.3392194240027715],\n",
       " [0.18208356364937153, 0.3424493770599463],\n",
       " [0.17607926572804145, 0.3455750167194871],\n",
       " [0.17002133235665245, 0.34859539088127484],\n",
       " [0.163911608840394, 0.35150957951008066],\n",
       " [0.15775195626023533, 0.35431669491581796],\n",
       " [0.1515442509060224, 0.357015882023941],\n",
       " [0.14529038370494116, 0.35960631863590914],\n",
       " [0.138992259645524, 0.36208721567963603],\n",
       " [0.13265179719737052, 0.36445781744984934],\n",
       " [0.1262709277267639, 0.3667174018382853],\n",
       " [0.11985159490835776, 0.36886528055365003],\n",
       " [0.11339575413311406, 0.3709007993312799],\n",
       " [0.10690537191267208, 0.3728233381324368],\n",
       " [0.10038242528032991, 0.37463231133317776],\n",
       " [0.09382890118882103, 0.3763271679027419],\n",
       " [0.08724679590506891, 0.3779073915713998],\n",
       " [0.08063811440210558, 0.37937250098771386],\n",
       " [0.07400486974833634, 0.3807220498651632],\n",
       " [0.06734908249434046, 0.3819556271180863],\n",
       " [0.060672780057391615, 0.38307285698690197],\n",
       " [0.05397799610388695, 0.3840733991525693],\n",
       " [0.04726676992987228, 0.38495694884025217],\n",
       " [0.04054114583985357, 0.38572323691215665],\n",
       " [0.033803172524081146, 0.3863720299495128],\n",
       " [0.027054902434499286, 0.3869031303236764],\n",
       " [0.020298391159549067, 0.3873163762563287],\n",
       " [0.013535696798016719, 0.3876116418687553],\n",
       " [0.00676887933211637, 0.38778883722019036],\n",
       " [0.0, 0.3878479083352133],\n",
       " [-0.006768879332116409, 0.38778883722019036],\n",
       " [-0.013535696798016583, 0.3876116418687553],\n",
       " [-0.020298391159548932, 0.3873163762563287],\n",
       " [-0.027054902434499237, 0.3869031303236764],\n",
       " [-0.03380317252408119, 0.3863720299495128],\n",
       " [-0.04054114583985352, 0.3857232369121567],\n",
       " [-0.04726676992987223, 0.3849569488402522],\n",
       " [-0.053977996103886816, 0.38407339915256933],\n",
       " [-0.060672780057391656, 0.3830728569869019],\n",
       " [-0.06734908249434042, 0.3819556271180863],\n",
       " [-0.0740048697483363, 0.3807220498651632],\n",
       " [-0.08063811440210546, 0.3793725009877139],\n",
       " [-0.08724679590506887, 0.3779073915713998],\n",
       " [-0.09382890118882099, 0.3763271679027419],\n",
       " [-0.10038242528032995, 0.37463231133317776],\n",
       " [-0.10690537191267202, 0.3728233381324368],\n",
       " [-0.11339575413311402, 0.37090079933127995],\n",
       " [-0.1198515949083577, 0.3688652805536501],\n",
       " [-0.12627092772676377, 0.36671740183828533],\n",
       " [-0.13265179719737047, 0.3644578174498494],\n",
       " [-0.13899225964552397, 0.36208721567963603],\n",
       " [-0.14529038370494118, 0.35960631863590914],\n",
       " [-0.15154425090602225, 0.3570158820239411],\n",
       " [-0.15775195626023528, 0.354316694915818],\n",
       " [-0.16391160884039394, 0.35150957951008066],\n",
       " [-0.17002133235665248, 0.3485953908812748],\n",
       " [-0.1760792657280414, 0.34557501671948715],\n",
       " [-0.18208356364937142, 0.34244937705994644],\n",
       " [-0.1880323971533309, 0.3392194240027715],\n",
       " [-0.19392395416760658, 0.3358861414229531],\n",
       " [-0.19975644006685947, 0.3324505446706551],\n",
       " [-0.2055280782193837, 0.3289136802619297],\n",
       " [-0.21123711052828725, 0.3252766255599381],\n",
       " [-0.21688179796702395, 0.3215404884467756],\n",
       " [-0.22246042110911873, 0.31770640698599956],\n",
       " [-0.22797128065192132, 0.3137755490759644],\n",
       " [-0.23341269793422995, 0.30974911209406875],\n",
       " [-0.23878301544762812, 0.30562832253202227],\n",
       " [-0.24408059734137788, 0.3014144356222445],\n",
       " [-0.24930382992071579, 0.29710873495550894],\n",
       " [-0.25445112213839943, 0.2927125320899489],\n",
       " [-0.2595209060793562, 0.2882271661515445],\n",
       " [-0.26451163743828565, 0.283654003426211],\n",
       " [-0.2694217959900697, 0.2789944369436159],\n",
       " [-0.2742498860528478, 0.27424988605284784],\n",
       " [-0.27899443694361586, 0.26942179599006977],\n",
       " [-0.283654003426211, 0.26451163743828576],\n",
       " [-0.2882271661515444, 0.2595209060793562],\n",
       " [-0.292712532089949, 0.2544511221383993],\n",
       " [-0.2971087349555089, 0.24930382992071584],\n",
       " [-0.3014144356222444, 0.24408059734137807],\n",
       " [-0.30562832253202227, 0.23878301544762814],\n",
       " [-0.3097491120940688, 0.23341269793422986],\n",
       " [-0.3137755490759644, 0.2279712806519214],\n",
       " [-0.3177064069859994, 0.22246042110911896],\n",
       " [-0.3215404884467755, 0.21688179796702403],\n",
       " [-0.32527662555993814, 0.21123711052828723],\n",
       " [-0.3289136802619297, 0.20552807821938374],\n",
       " [-0.33245054467065505, 0.1997564400668595],\n",
       " [-0.3358861414229531, 0.19392395416760663],\n",
       " [-0.3392194240027715, 0.18803239715333095],\n",
       " [-0.34244937705994627, 0.18208356364937164],\n",
       " [-0.3455750167194871, 0.17607926572804145],\n",
       " [-0.34859539088127484, 0.1700213323566524],\n",
       " [-0.35150957951008066, 0.16391160884039402],\n",
       " [-0.3543166949158179, 0.15775195626023542],\n",
       " [-0.35701588202394097, 0.15154425090602247],\n",
       " [-0.3596063186359091, 0.14529038370494127],\n",
       " [-0.36208721567963603, 0.13899225964552395],\n",
       " [-0.36445781744984934, 0.13265179719737055],\n",
       " [-0.3667174018382853, 0.12627092772676402],\n",
       " [-0.36886528055365003, 0.11985159490835777],\n",
       " [-0.3709007993312799, 0.11339575413311417],\n",
       " [-0.37282333813243673, 0.10690537191267227],\n",
       " [-0.3746323113331777, 0.10038242528033002],\n",
       " [-0.3763271679027419, 0.09382890118882098],\n",
       " [-0.3779073915713998, 0.08724679590506886],\n",
       " [-0.3793725009877139, 0.08063811440210553],\n",
       " [-0.3807220498651632, 0.07400486974833635],\n",
       " [-0.3819556271180863, 0.0673490824943404],\n",
       " [-0.3830728569869019, 0.060672780057391636],\n",
       " [-0.3840733991525693, 0.05397799610388697],\n",
       " [-0.38495694884025217, 0.0472667699298723],\n",
       " [-0.38572323691215665, 0.04054114583985368],\n",
       " [-0.3863720299495128, 0.03380317252408134],\n",
       " [-0.3869031303236764, 0.02705490243449931],\n",
       " [-0.3873163762563287, 0.020298391159549005],\n",
       " [-0.3876116418687553, 0.013535696798016571],\n",
       " [-0.38778883722019036, 0.006768879332116394],\n",
       " [-0.3878479083352133, 0.0],\n",
       " [-0.38778883722019036, -0.006768879332116298],\n",
       " [-0.3876116418687553, -0.013535696798016649],\n",
       " [-0.3873163762563287, -0.02029839115954891],\n",
       " [-0.38690313032367646, -0.027054902434499043],\n",
       " [-0.3863720299495128, -0.03380317252408107],\n",
       " [-0.3857232369121567, -0.04054114583985342],\n",
       " [-0.38495694884025217, -0.047266769929872374],\n",
       " [-0.3840733991525693, -0.05397799610388688],\n",
       " [-0.38307285698690197, -0.06067278005739154],\n",
       " [-0.3819556271180863, -0.06734908249434049],\n",
       " [-0.3807220498651632, -0.07400486974833625],\n",
       " [-0.3793725009877139, -0.08063811440210543],\n",
       " [-0.3779073915713998, -0.08724679590506894],\n",
       " [-0.3763271679027419, -0.0938289011888209],\n",
       " [-0.3746323113331778, -0.10038242528032976],\n",
       " [-0.3728233381324368, -0.106905371912672],\n",
       " [-0.37090079933127995, -0.11339575413311391],\n",
       " [-0.36886528055365003, -0.11985159490835785],\n",
       " [-0.3667174018382853, -0.1262709277267639],\n",
       " [-0.3644578174498494, -0.13265179719737047],\n",
       " [-0.36208721567963603, -0.13899225964552403],\n",
       " [-0.35960631863590914, -0.14529038370494116],\n",
       " [-0.3570158820239411, -0.15154425090602222],\n",
       " [-0.3543166949158181, -0.1577519562602352],\n",
       " [-0.35150957951008066, -0.16391160884039394],\n",
       " [-0.34859539088127484, -0.17002133235665232],\n",
       " [-0.3455750167194872, -0.17607926572804122],\n",
       " [-0.3424493770599463, -0.18208356364937153],\n",
       " [-0.3392194240027715, -0.18803239715333087],\n",
       " [-0.33588614142295303, -0.19392395416760672],\n",
       " [-0.3324505446706551, -0.19975644006685941],\n",
       " [-0.3289136802619297, -0.2055280782193837],\n",
       " [-0.32527662555993814, -0.21123711052828725],\n",
       " [-0.32154048844677563, -0.21688179796702395],\n",
       " [-0.31770640698599956, -0.22246042110911873],\n",
       " [-0.31377554907596444, -0.22797128065192132],\n",
       " [-0.30974911209406886, -0.2334126979342298],\n",
       " [-0.3056283225320224, -0.23878301544762795],\n",
       " [-0.30141443562224446, -0.24408059734137802],\n",
       " [-0.29710873495550894, -0.24930382992071576],\n",
       " [-0.29271253208994896, -0.2544511221383994],\n",
       " [-0.2882271661515445, -0.2595209060793562],\n",
       " [-0.283654003426211, -0.26451163743828565],\n",
       " [-0.2789944369436158, -0.2694217959900699],\n",
       " [-0.2742498860528479, -0.2742498860528478],\n",
       " [-0.26942179599006993, -0.2789944369436157],\n",
       " [-0.2645116374382859, -0.28365400342621083],\n",
       " [-0.25952090607935624, -0.2882271661515444],\n",
       " [-0.25445112213839943, -0.29271253208994885],\n",
       " [-0.24930382992071584, -0.2971087349555089],\n",
       " [-0.24408059734137785, -0.30141443562224457],\n",
       " [-0.23878301544762803, -0.3056283225320223],\n",
       " [-0.2334126979342299, -0.30974911209406875],\n",
       " [-0.2279712806519214, -0.3137755490759644],\n",
       " [-0.22246042110911896, -0.3177064069859994],\n",
       " [-0.21688179796702417, -0.32154048844677546],\n",
       " [-0.21123711052828723, -0.32527662555993814],\n",
       " [-0.2055280782193838, -0.3289136802619297],\n",
       " [-0.19975644006685955, -0.332450544670655],\n",
       " [-0.19392395416760683, -0.335886141422953],\n",
       " [-0.18803239715333084, -0.33921942400277155],\n",
       " [-0.1820835636493715, -0.3424493770599464],\n",
       " [-0.17607926572804147, -0.3455750167194871],\n",
       " [-0.17002133235665257, -0.3485953908812747],\n",
       " [-0.16391160884039419, -0.35150957951008055],\n",
       " [-0.1577519562602353, -0.354316694915818],\n",
       " [-0.15154425090602233, -0.357015882023941],\n",
       " [-0.14529038370494127, -0.3596063186359091],\n",
       " [-0.13899225964552414, -0.36208721567963603],\n",
       " [-0.13265179719737075, -0.3644578174498493],\n",
       " [-0.12627092772676385, -0.36671740183828533],\n",
       " [-0.1198515949083578, -0.36886528055365003],\n",
       " [-0.1133957541331142, -0.3709007993312799],\n",
       " [-0.10690537191267196, -0.37282333813243684],\n",
       " [-0.10038242528032987, -0.37463231133317776],\n",
       " [-0.09382890118882099, -0.3763271679027419],\n",
       " [-0.08724679590506904, -0.37790739157139974],\n",
       " [-0.0806381144021057, -0.37937250098771386],\n",
       " [-0.07400486974833655, -0.38072204986516317],\n",
       " [-0.06734908249434043, -0.3819556271180863],\n",
       " [-0.060672780057391656, -0.3830728569869019],\n",
       " [-0.05397799610388666, -0.38407339915256933],\n",
       " [-0.04726676992987215, -0.3849569488402522],\n",
       " [-0.040541145839853535, -0.3857232369121567],\n",
       " [-0.03380317252408119, -0.3863720299495128],\n",
       " [-0.02705490243449933, -0.3869031303236764],\n",
       " [-0.0202983911595492, -0.3873163762563287],\n",
       " [-0.013535696798016939, -0.38761164186875524],\n",
       " [-0.006768879332116417, -0.38778883722019036],\n",
       " [0.0, -0.3878479083352133],\n",
       " [0.006768879332116274, -0.38778883722019036],\n",
       " [0.013535696798016797, -0.3876116418687553],\n",
       " [0.02029839115954906, -0.3873163762563287],\n",
       " [0.027054902434499192, -0.38690313032367646],\n",
       " [0.03380317252408105, -0.3863720299495128],\n",
       " [0.04054114583985339, -0.3857232369121567],\n",
       " [0.04726676992987235, -0.38495694884025217],\n",
       " [0.05397799610388686, -0.38407339915256933],\n",
       " [0.06067278005739152, -0.38307285698690197],\n",
       " [0.0673490824943403, -0.3819556271180863],\n",
       " [0.07400486974833607, -0.3807220498651632],\n",
       " [0.08063811440210523, -0.37937250098771397],\n",
       " [0.08724679590506891, -0.3779073915713998],\n",
       " [0.09382890118882087, -0.37632716790274195],\n",
       " [0.10038242528033006, -0.3746323113331777],\n",
       " [0.10690537191267216, -0.3728233381324368],\n",
       " [0.11339575413311405, -0.3709007993312799],\n",
       " [0.11985159490835766, -0.3688652805536501],\n",
       " [0.12627092772676374, -0.36671740183828533],\n",
       " [0.13265179719737027, -0.36445781744984945],\n",
       " [0.1389922596455237, -0.3620872156796362],\n",
       " [0.14529038370494116, -0.35960631863590914],\n",
       " [0.1515442509060222, -0.35701588202394113],\n",
       " [0.15775195626023547, -0.3543166949158179],\n",
       " [0.16391160884039405, -0.35150957951008066],\n",
       " [0.17002133235665243, -0.34859539088127484],\n",
       " [0.17607926572804136, -0.34557501671948715],\n",
       " [0.18208356364937137, -0.34244937705994644],\n",
       " [0.1880323971533307, -0.3392194240027716],\n",
       " [0.19392395416760672, -0.33588614142295303],\n",
       " [0.19975644006685941, -0.3324505446706551],\n",
       " [0.20552807821938365, -0.32891368026192974],\n",
       " [0.2112371105282871, -0.3252766255599382],\n",
       " [0.21688179796702378, -0.32154048844677574],\n",
       " [0.22246042110911882, -0.3177064069859995],\n",
       " [0.22797128065192127, -0.31377554907596444],\n",
       " [0.23341269793422978, -0.30974911209406886],\n",
       " [0.2387830154476282, -0.3056283225320222],\n",
       " [0.24408059734137796, -0.30141443562224446],\n",
       " [0.24930382992071576, -0.29710873495550894],\n",
       " [0.2544511221383992, -0.2927125320899491],\n",
       " [0.25952090607935596, -0.28822716615154464],\n",
       " [0.26451163743828554, -0.2836540034262112],\n",
       " [0.26942179599006955, -0.27899443694361603],\n",
       " [0.2742498860528478, -0.2742498860528479],\n",
       " [0.2789944369436157, -0.26942179599006993],\n",
       " [0.28365400342621105, -0.26451163743828565],\n",
       " [0.2882271661515445, -0.25952090607935613],\n",
       " [0.29271253208994896, -0.2544511221383994],\n",
       " [0.2971087349555088, -0.24930382992071587],\n",
       " [0.30141443562224435, -0.2440805973413781],\n",
       " [0.3056283225320221, -0.23878301544762834],\n",
       " [0.30974911209406875, -0.2334126979342299],\n",
       " [0.3137755490759644, -0.22797128065192143],\n",
       " [0.3177064069859994, -0.222460421109119],\n",
       " [0.32154048844677546, -0.2168817979670242],\n",
       " [0.32527662555993814, -0.21123711052828723],\n",
       " [0.32891368026192946, -0.2055280782193841],\n",
       " [0.332450544670655, -0.19975644006685955],\n",
       " [0.335886141422953, -0.19392395416760683],\n",
       " [0.3392194240027715, -0.18803239715333084],\n",
       " [0.3424493770599463, -0.18208356364937153],\n",
       " [0.3455750167194871, -0.1760792657280415],\n",
       " [0.34859539088127484, -0.1700213323566523],\n",
       " [0.35150957951008055, -0.1639116088403942],\n",
       " [0.354316694915818, -0.1577519562602353],\n",
       " [0.3570158820239409, -0.15154425090602267],\n",
       " [0.3596063186359091, -0.1452903837049413],\n",
       " [0.362087215679636, -0.13899225964552417],\n",
       " [0.3644578174498494, -0.13265179719737044],\n",
       " [0.36671740183828516, -0.1262709277267642],\n",
       " [0.36886528055365003, -0.11985159490835784],\n",
       " [0.37090079933128, -0.11339575413311387],\n",
       " [0.37282333813243673, -0.10690537191267231],\n",
       " [0.37463231133317776, -0.10038242528032988],\n",
       " [0.3763271679027419, -0.09382890118882103],\n",
       " [0.37790739157139974, -0.08724679590506908],\n",
       " [0.37937250098771386, -0.08063811440210575],\n",
       " [0.3807220498651632, -0.07400486974833624],\n",
       " [0.3819556271180862, -0.0673490824943408],\n",
       " [0.3830728569869019, -0.06067278005739169],\n",
       " [0.3840733991525693, -0.053977996103887024],\n",
       " [0.38495694884025217, -0.04726676992987252],\n",
       " [0.38572323691215665, -0.040541145839853555],\n",
       " [0.3863720299495128, -0.033803172524081215],\n",
       " [0.38690313032367646, -0.027054902434499015],\n",
       " [0.3873163762563287, -0.020298391159549223],\n",
       " [0.3876116418687553, -0.01353569679801662],\n",
       " [0.38778883722019036, -0.006768879332116786]]"
      ]
     },
     "execution_count": 38,
     "metadata": {},
     "output_type": "execute_result"
    }
   ],
   "source": [
    "circum_coord_list"
   ]
  },
  {
   "cell_type": "code",
   "execution_count": 20,
   "id": "a6bae1ed",
   "metadata": {},
   "outputs": [],
   "source": []
  },
  {
   "cell_type": "code",
   "execution_count": 21,
   "id": "7b2c46f7",
   "metadata": {},
   "outputs": [],
   "source": [
    "# code to get the experimental arena circumpherance\n",
    "# code from others"
   ]
  },
  {
   "cell_type": "code",
   "execution_count": null,
   "id": "bb9c25b8",
   "metadata": {},
   "outputs": [],
   "source": []
  },
  {
   "cell_type": "code",
   "execution_count": 22,
   "id": "45277d88",
   "metadata": {},
   "outputs": [
    {
     "data": {
      "text/html": [
       "<div>\n",
       "<style scoped>\n",
       "    .dataframe tbody tr th:only-of-type {\n",
       "        vertical-align: middle;\n",
       "    }\n",
       "\n",
       "    .dataframe tbody tr th {\n",
       "        vertical-align: top;\n",
       "    }\n",
       "\n",
       "    .dataframe thead th {\n",
       "        text-align: right;\n",
       "    }\n",
       "</style>\n",
       "<table border=\"1\" class=\"dataframe\">\n",
       "  <thead>\n",
       "    <tr style=\"text-align: right;\">\n",
       "      <th></th>\n",
       "      <th>radius</th>\n",
       "      <th>height</th>\n",
       "      <th>nest_loc_x</th>\n",
       "      <th>nest_loc_y</th>\n",
       "    </tr>\n",
       "  </thead>\n",
       "  <tbody>\n",
       "    <tr>\n",
       "      <th>0</th>\n",
       "      <td>0.387848</td>\n",
       "      <td>0.282</td>\n",
       "      <td>0.03</td>\n",
       "      <td>0.1</td>\n",
       "    </tr>\n",
       "  </tbody>\n",
       "</table>\n",
       "</div>"
      ],
      "text/plain": [
       "     radius  height  nest_loc_x  nest_loc_y\n",
       "0  0.387848   0.282        0.03         0.1"
      ]
     },
     "execution_count": 22,
     "metadata": {},
     "output_type": "execute_result"
    }
   ],
   "source": [
    "clutter_data"
   ]
  },
  {
   "cell_type": "code",
   "execution_count": 23,
   "id": "3c13b92d",
   "metadata": {},
   "outputs": [],
   "source": [
    "\n",
    "nest_x = clutter_data.nest_loc_x\n",
    "nest_y = clutter_data.nest_loc_y\n"
   ]
  },
  {
   "cell_type": "code",
   "execution_count": 24,
   "id": "dca3a2cf",
   "metadata": {},
   "outputs": [
    {
     "name": "stdout",
     "output_type": "stream",
     "text": [
      "0.31139301595887015\n",
      "245\n"
     ]
    }
   ],
   "source": [
    "# get the circumference of the \n",
    "Nest_arenaCircum_dist = []\n",
    "for ii in range(len(Xc_2d)):\n",
    "        dist = math.hypot(nest_x- Xc_2d[ii], nest_y-Yc_2d[ii])\n",
    "        Nest_arenaCircum_dist.append(dist)\n",
    "min_dist = min(Nest_arenaCircum_dist)\n",
    "max_dist = max(Nest_arenaCircum_dist)\n",
    "print(min_dist)\n",
    "min_dist_indexPos = Nest_arenaCircum_dist.index(min_dist)\n",
    "max_dist_indexPos = Nest_arenaCircum_dist.index(max_dist)\n",
    "print(max_dist_indexPos)\n",
    "Xc_2D_min = Xc_2d[min_dist_indexPos]\n",
    "Yc_2D_min = Yc_2d[min_dist_indexPos]\n",
    "\n",
    "Xc_2D_max = Xc_2d[max_dist_indexPos]\n",
    "Yc_2D_max = Yc_2d[max_dist_indexPos]"
   ]
  },
  {
   "cell_type": "code",
   "execution_count": 25,
   "id": "46111476",
   "metadata": {},
   "outputs": [
    {
     "data": {
      "text/plain": [
       "0.31139301595887015"
      ]
     },
     "execution_count": 25,
     "metadata": {},
     "output_type": "execute_result"
    }
   ],
   "source": [
    "\n",
    "min_dist"
   ]
  },
  {
   "cell_type": "code",
   "execution_count": 29,
   "id": "24f34874",
   "metadata": {},
   "outputs": [
    {
     "data": {
      "text/html": [
       "<div>\n",
       "<style scoped>\n",
       "    .dataframe tbody tr th:only-of-type {\n",
       "        vertical-align: middle;\n",
       "    }\n",
       "\n",
       "    .dataframe tbody tr th {\n",
       "        vertical-align: top;\n",
       "    }\n",
       "\n",
       "    .dataframe thead th {\n",
       "        text-align: right;\n",
       "    }\n",
       "</style>\n",
       "<table border=\"1\" class=\"dataframe\">\n",
       "  <thead>\n",
       "    <tr style=\"text-align: right;\">\n",
       "      <th></th>\n",
       "      <th>nest_circum_dist</th>\n",
       "    </tr>\n",
       "  </thead>\n",
       "  <tbody>\n",
       "    <tr>\n",
       "      <th>0</th>\n",
       "      <td>0.696348</td>\n",
       "    </tr>\n",
       "    <tr>\n",
       "      <th>1</th>\n",
       "      <td>0.688797</td>\n",
       "    </tr>\n",
       "    <tr>\n",
       "      <th>2</th>\n",
       "      <td>0.681225</td>\n",
       "    </tr>\n",
       "    <tr>\n",
       "      <th>3</th>\n",
       "      <td>0.673634</td>\n",
       "    </tr>\n",
       "    <tr>\n",
       "      <th>4</th>\n",
       "      <td>0.666026</td>\n",
       "    </tr>\n",
       "    <tr>\n",
       "      <th>...</th>\n",
       "      <td>...</td>\n",
       "    </tr>\n",
       "    <tr>\n",
       "      <th>355</th>\n",
       "      <td>0.726314</td>\n",
       "    </tr>\n",
       "    <tr>\n",
       "      <th>356</th>\n",
       "      <td>0.718861</td>\n",
       "    </tr>\n",
       "    <tr>\n",
       "      <th>357</th>\n",
       "      <td>0.711381</td>\n",
       "    </tr>\n",
       "    <tr>\n",
       "      <th>358</th>\n",
       "      <td>0.703876</td>\n",
       "    </tr>\n",
       "    <tr>\n",
       "      <th>359</th>\n",
       "      <td>0.696348</td>\n",
       "    </tr>\n",
       "  </tbody>\n",
       "</table>\n",
       "<p>360 rows × 1 columns</p>\n",
       "</div>"
      ],
      "text/plain": [
       "     nest_circum_dist\n",
       "0            0.696348\n",
       "1            0.688797\n",
       "2            0.681225\n",
       "3            0.673634\n",
       "4            0.666026\n",
       "..                ...\n",
       "355          0.726314\n",
       "356          0.718861\n",
       "357          0.711381\n",
       "358          0.703876\n",
       "359          0.696348\n",
       "\n",
       "[360 rows x 1 columns]"
      ]
     },
     "execution_count": 29,
     "metadata": {},
     "output_type": "execute_result"
    }
   ],
   "source": [
    "nest_circum_dist"
   ]
  },
  {
   "cell_type": "code",
   "execution_count": 28,
   "id": "08cd0d39",
   "metadata": {},
   "outputs": [],
   "source": [
    "nest_circum_dist = pd.DataFrame({'nest_circum_dist':Nest_arenaCircum_dist})\n",
    "# nest_circum_dist.to_csv(os.path.join(common_path,'areana_circum_dist.csv'))"
   ]
  },
  {
   "cell_type": "code",
   "execution_count": 37,
   "id": "f0f287f2",
   "metadata": {},
   "outputs": [],
   "source": [
    "# nest_circum_dist['angle_deg','angle_rad'] = ''"
   ]
  },
  {
   "cell_type": "code",
   "execution_count": 30,
   "id": "17ec93e5",
   "metadata": {},
   "outputs": [],
   "source": [
    "for ii in range(len(Nest_arenaCircum_dist)):\n",
    "        \n",
    "    x_coord = Xc_2d[ii]\n",
    "    y_coord = Yc_2d[ii]\n",
    "    angle_Rad = np.arctan2((x_coord- nest_x),(y_coord - nest_y)) - np.arctan2((other_point[0]-nest_x),(other_point[1]-nest_y))\n",
    "    angle_Deg = np.degrees(angle_Rad)\n",
    "    \n",
    "    nest_circum_dist.at[ii,'angle'] = angle_Deg[0]\n",
    "\n",
    "\n",
    "# nest_circum_dist\n",
    "    "
   ]
  },
  {
   "cell_type": "code",
   "execution_count": 39,
   "id": "adbabd2c",
   "metadata": {},
   "outputs": [],
   "source": [
    "# convert all the angle to 0-360\n",
    "nest_circum_dist[\"angle\"] %= 360"
   ]
  },
  {
   "cell_type": "code",
   "execution_count": 43,
   "id": "6c25af94",
   "metadata": {},
   "outputs": [
    {
     "data": {
      "text/plain": [
       "False"
      ]
     },
     "execution_count": 43,
     "metadata": {},
     "output_type": "execute_result"
    }
   ],
   "source": [
    "# check if there is any negative value\n",
    "(nest_circum_dist.angle<0).any().any()"
   ]
  },
  {
   "cell_type": "code",
   "execution_count": 44,
   "id": "be907d26",
   "metadata": {},
   "outputs": [],
   "source": [
    "nest_circum_dist.to_csv(os.path.join(common_path,'areana_circum_dist.csv'))"
   ]
  },
  {
   "cell_type": "code",
   "execution_count": 38,
   "id": "293f797a",
   "metadata": {
    "scrolled": true
   },
   "outputs": [
    {
     "data": {
      "image/png": "[encoded data removed]",
      "text/plain": [
       "<Figure size 1080x540 with 2 Axes>"
      ]
     },
     "metadata": {
      "needs_background": "light"
     },
     "output_type": "display_data"
    }
   ],
   "source": [
    "# NO NEED TO PLOT THE TRAJECTORY\n",
    "\n",
    "# code from others - not privided\n",
    "\n",
    "#_________Plot nest____________________________________________________________________________________________\n",
    "   \n",
    "nest_x = nest_loc['x']\n",
    "nest_y = nest_loc['y']\n",
    "nest_z = nest_loc['z']\n",
    "nest_radius = 0.02\n",
    "alph = 1\n",
    "\n",
    "#______________________________________________________________________________________________________________\n",
    "\n",
    "# plot the nest in 3D\n",
    "circle = Circle((nest_x,nest_y), nest_radius, alpha = alph, color = 'black')\n",
    "ax_xyz.add_patch(circle)\n",
    "art3d.pathpatch_2d_to_3d(circle, z=nest_z, zdir='z')\n",
    "\n",
    "# plot the nest in 2D\n",
    "ax_xy.plot(nest_loc['x'],nest_loc['y'], color='black',marker='.',markersize=5,label='nest')\n",
    "ax_xy.plot(0,0, color='black',marker='*',markersize=5,label='nest')\n",
    "\n",
    "\n",
    "# _______________plot the clutter circle and cylinder______________________________________________________\n",
    "\n",
    "\n",
    "ax_xyz.plot_surface(clutX_3d,clutY_3d,clutZ_3d, alpha=0.1, color='green')\n",
    "ax_xy.plot(clutX_2d,clutY_2d, alpha=0.2, color='green')\n",
    "\n",
    "#----------------------------------------plot the circumpherence -------------------------------------------\n",
    "for ii in range(len(circum_coord_list)):\n",
    "    ax_xyz.scatter(circum_coord_list[ii][0],circum_coord_list[ii][1],0, marker = '.',alpha=1 , color='blue',\n",
    "                   linewidth=2)\n",
    "    ax_xy.scatter(circum_coord_list[ii][0],circum_coord_list[ii][1],marker = '.' ,alpha=1, color='blue',\n",
    "                  linewidth=1)\n",
    "\n",
    "#--------------------------------- plot other point (red in the direction of nest)---------------------------\n",
    "\n",
    "ax_xy.plot(other_point[0],other_point[1],marker='.',markersize=15,color= 'yellow')\n",
    "ax_xy.plot(0,clut_radius,marker='.',markersize=15,color= 'red')\n",
    "\n",
    "#-------------------------------------------------------------------------------------------------------------\n",
    "\n",
    "ax_xyz.axis('off')\n",
    "ax_xy.axis('off')\n",
    "ax_xy.axis('equal')\n",
    "ax_xyz.axis('auto')\n",
    "\n",
    "plt.show()"
   ]
  },
  {
   "cell_type": "code",
   "execution_count": 21,
   "id": "3d47dff8",
   "metadata": {},
   "outputs": [],
   "source": [
    "# Save the figure\n",
    "\n",
    "fig.savefig('{}/circum_reference_point.jpg'.format(common_path))"
   ]
  },
  {
   "cell_type": "markdown",
   "id": "86bde222",
   "metadata": {},
   "source": [
    "# Saving circumference data"
   ]
  },
  {
   "cell_type": "code",
   "execution_count": 133,
   "id": "33803e78",
   "metadata": {},
   "outputs": [],
   "source": [
    "# save the circumference coordinates:\n",
    "circum_x = []\n",
    "circum_y = []\n",
    "for ii in range(len(circum_coord_list)):\n",
    "    circum_x.append(circum_coord_list[ii][0]) \n",
    "    circum_y.append(circum_coord_list[ii][1])"
   ]
  },
  {
   "cell_type": "code",
   "execution_count": 134,
   "id": "fbf9ece8",
   "metadata": {},
   "outputs": [],
   "source": [
    "circum_x_df = pd.DataFrame(circum_x,columns=['x_coord'])\n",
    "circum_y_df = pd.DataFrame(circum_y,columns=['y_coord'])\n",
    "circum_data_df = pd.concat([circum_x_df,circum_y_df],axis=1)"
   ]
  },
  {
   "cell_type": "code",
   "execution_count": 135,
   "id": "0074861a",
   "metadata": {},
   "outputs": [
    {
     "data": {
      "text/html": [
       "<div>\n",
       "<style scoped>\n",
       "    .dataframe tbody tr th:only-of-type {\n",
       "        vertical-align: middle;\n",
       "    }\n",
       "\n",
       "    .dataframe tbody tr th {\n",
       "        vertical-align: top;\n",
       "    }\n",
       "\n",
       "    .dataframe thead th {\n",
       "        text-align: right;\n",
       "    }\n",
       "</style>\n",
       "<table border=\"1\" class=\"dataframe\">\n",
       "  <thead>\n",
       "    <tr style=\"text-align: right;\">\n",
       "      <th></th>\n",
       "      <th>x_coord</th>\n",
       "      <th>y_coord</th>\n",
       "    </tr>\n",
       "  </thead>\n",
       "  <tbody>\n",
       "    <tr>\n",
       "      <th>0</th>\n",
       "      <td>0.387848</td>\n",
       "      <td>0.000000</td>\n",
       "    </tr>\n",
       "    <tr>\n",
       "      <th>1</th>\n",
       "      <td>0.387789</td>\n",
       "      <td>0.006769</td>\n",
       "    </tr>\n",
       "    <tr>\n",
       "      <th>2</th>\n",
       "      <td>0.387612</td>\n",
       "      <td>0.013536</td>\n",
       "    </tr>\n",
       "    <tr>\n",
       "      <th>3</th>\n",
       "      <td>0.387316</td>\n",
       "      <td>0.020298</td>\n",
       "    </tr>\n",
       "    <tr>\n",
       "      <th>4</th>\n",
       "      <td>0.386903</td>\n",
       "      <td>0.027055</td>\n",
       "    </tr>\n",
       "  </tbody>\n",
       "</table>\n",
       "</div>"
      ],
      "text/plain": [
       "    x_coord   y_coord\n",
       "0  0.387848  0.000000\n",
       "1  0.387789  0.006769\n",
       "2  0.387612  0.013536\n",
       "3  0.387316  0.020298\n",
       "4  0.386903  0.027055"
      ]
     },
     "execution_count": 135,
     "metadata": {},
     "output_type": "execute_result"
    }
   ],
   "source": [
    "circum_data_df.head()"
   ]
  },
  {
   "cell_type": "code",
   "execution_count": 136,
   "id": "c3d2c6e1",
   "metadata": {},
   "outputs": [
    {
     "data": {
      "text/plain": [
       "False"
      ]
     },
     "execution_count": 136,
     "metadata": {},
     "output_type": "execute_result"
    }
   ],
   "source": [
    "check_circum_data = os.path.exists('{0}/circum_data.csv'.format(common_path))\n",
    "if not check_circum_data:\n",
    "    circum_data_df.to_csv('{0}/circum_data.csv'.format(common_path))\n",
    "    \n",
    "os.path.exists('{}/exitDistAng_data.csv'.format(recording_path))"
   ]
  },
  {
   "cell_type": "markdown",
   "id": "ee73f102",
   "metadata": {},
   "source": [
    "# # Saving clutter data"
   ]
  },
  {
   "cell_type": "code",
   "execution_count": 37,
   "id": "4061f4d0",
   "metadata": {},
   "outputs": [],
   "source": [
    "angleRad_NestArena = np.arctan2((Xc_2D_min- nest_x),(Yc_2D_min - nest_y)) - np.arctan2((other_point[0]-nest_x),(other_point[1]-nest_y))\n",
    "angleDeg_NestArena = np.degrees(angleRad_NestArena)\n"
   ]
  },
  {
   "cell_type": "code",
   "execution_count": 38,
   "id": "93d06401",
   "metadata": {},
   "outputs": [
    {
     "data": {
      "text/plain": [
       "0    6.537134\n",
       "dtype: float64"
      ]
     },
     "execution_count": 38,
     "metadata": {},
     "output_type": "execute_result"
    }
   ],
   "source": [
    "angleDeg_NestArena"
   ]
  },
  {
   "cell_type": "code",
   "execution_count": 139,
   "id": "743efb5a",
   "metadata": {},
   "outputs": [
    {
     "data": {
      "text/html": [
       "<div>\n",
       "<style scoped>\n",
       "    .dataframe tbody tr th:only-of-type {\n",
       "        vertical-align: middle;\n",
       "    }\n",
       "\n",
       "    .dataframe tbody tr th {\n",
       "        vertical-align: top;\n",
       "    }\n",
       "\n",
       "    .dataframe thead th {\n",
       "        text-align: right;\n",
       "    }\n",
       "</style>\n",
       "<table border=\"1\" class=\"dataframe\">\n",
       "  <thead>\n",
       "    <tr style=\"text-align: right;\">\n",
       "      <th></th>\n",
       "      <th>other_pt_x</th>\n",
       "      <th>other_pt_y</th>\n",
       "      <th>arena_minDist_X</th>\n",
       "      <th>arena_minDist_Y</th>\n",
       "      <th>arena_minDistAng</th>\n",
       "    </tr>\n",
       "  </thead>\n",
       "  <tbody>\n",
       "    <tr>\n",
       "      <th>0</th>\n",
       "      <td>0.111447</td>\n",
       "      <td>0.371491</td>\n",
       "      <td>0.152852</td>\n",
       "      <td>0.386134</td>\n",
       "      <td>6.537134</td>\n",
       "    </tr>\n",
       "  </tbody>\n",
       "</table>\n",
       "</div>"
      ],
      "text/plain": [
       "   other_pt_x  other_pt_y  arena_minDist_X  arena_minDist_Y  arena_minDistAng\n",
       "0    0.111447    0.371491         0.152852         0.386134          6.537134"
      ]
     },
     "execution_count": 139,
     "metadata": {},
     "output_type": "execute_result"
    }
   ],
   "source": [
    "# adding other point to the clutter data\n",
    "other_pt_data = {'other_pt_x':[other_point[0]],'other_pt_y':[other_point[1]],\n",
    "                'arena_minDist_X':[Xc_2D_min],'arena_minDist_Y':[Yc_2D_min],'arena_minDistAng':[angleDeg_NestArena]}\n",
    "other_point_df = pd.DataFrame(other_pt_data)\n",
    "# clutter_data = pd.concat(clutter_data,)\n",
    "other_point_df"
   ]
  },
  {
   "cell_type": "code",
   "execution_count": 140,
   "id": "ba552e4b",
   "metadata": {},
   "outputs": [
    {
     "data": {
      "text/html": [
       "<div>\n",
       "<style scoped>\n",
       "    .dataframe tbody tr th:only-of-type {\n",
       "        vertical-align: middle;\n",
       "    }\n",
       "\n",
       "    .dataframe tbody tr th {\n",
       "        vertical-align: top;\n",
       "    }\n",
       "\n",
       "    .dataframe thead th {\n",
       "        text-align: right;\n",
       "    }\n",
       "</style>\n",
       "<table border=\"1\" class=\"dataframe\">\n",
       "  <thead>\n",
       "    <tr style=\"text-align: right;\">\n",
       "      <th></th>\n",
       "      <th>radius</th>\n",
       "      <th>height</th>\n",
       "      <th>nest_loc_x</th>\n",
       "      <th>nest_loc_y</th>\n",
       "      <th>other_pt_x</th>\n",
       "      <th>other_pt_y</th>\n",
       "      <th>arena_minDist_X</th>\n",
       "      <th>arena_minDist_Y</th>\n",
       "      <th>arena_minDistAng</th>\n",
       "    </tr>\n",
       "  </thead>\n",
       "  <tbody>\n",
       "    <tr>\n",
       "      <th>0</th>\n",
       "      <td>0.387848</td>\n",
       "      <td>0.282</td>\n",
       "      <td>0.03</td>\n",
       "      <td>0.1</td>\n",
       "      <td>0.111447</td>\n",
       "      <td>0.371491</td>\n",
       "      <td>0.152852</td>\n",
       "      <td>0.386134</td>\n",
       "      <td>6.537134</td>\n",
       "    </tr>\n",
       "  </tbody>\n",
       "</table>\n",
       "</div>"
      ],
      "text/plain": [
       "     radius  height  nest_loc_x  nest_loc_y  other_pt_x  other_pt_y  \\\n",
       "0  0.387848   0.282        0.03         0.1    0.111447    0.371491   \n",
       "\n",
       "   arena_minDist_X  arena_minDist_Y  arena_minDistAng  \n",
       "0         0.152852         0.386134          6.537134  "
      ]
     },
     "execution_count": 140,
     "metadata": {},
     "output_type": "execute_result"
    }
   ],
   "source": [
    "clutter_arena_data = pd.concat([clutter_data,other_point_df],axis=1)\n",
    "clutter_arena_data"
   ]
  },
  {
   "cell_type": "code",
   "execution_count": 142,
   "id": "07f06821",
   "metadata": {},
   "outputs": [],
   "source": [
    "check_clutter_arena_data = os.path.exists('{}/clutter_arena_data.csv'.format(common_path))\n",
    "if not check_clutter_arena_data:\n",
    "    clutter_arena_data.to_csv('{}/clutter_arena_data.csv'.format(common_path))"
   ]
  },
  {
   "cell_type": "markdown",
   "id": "84547db7",
   "metadata": {},
   "source": [
    "### clutter circumference and corner distance and angle data"
   ]
  },
  {
   "cell_type": "code",
   "execution_count": 43,
   "id": "9159749d",
   "metadata": {},
   "outputs": [],
   "source": [
    "cylinder_cor_dist = list() \n",
    "cylinder_horzAng = list() \n",
    "cylinder_vertAng = list() \n",
    "circum_x_coord = list(circum_data_df.x_coord)\n",
    "circum_y_coord = list(circum_data_df.y_coord)\n",
    "height = float(clutter_data.height)\n",
    "\n",
    "for ii in range(len(circum_x_coord)):\n",
    "    dist = np.sqrt((nest_loc[0]-circum_x_coord[ii])**2 + \n",
    "                        (nest_loc[1]-circum_y_coord[ii])**2 + \n",
    "                        height**2)\n",
    "# Horizontal angle\n",
    "    \n",
    "    horz_angle_rad = (np.arctan2((circum_x_coord[ii]-nest_loc[0]),\n",
    "                                 (circum_y_coord[ii]-nest_loc[1])) - \n",
    "                            np.arctan2((other_point[0]-nest_loc[0]),\n",
    "                                       (other_point[1]-nest_loc[1])))\n",
    "\n",
    "    horz_angle_deg = np.rad2deg(horz_angle_rad % (2 * np.pi))\n",
    "\n",
    "    \n",
    "    # vertical angle\n",
    "    vert_angle_deg = np.degrees(np.arcsin(height/exit_dist))\n",
    "\n",
    "    cylinder_cor_dist.append(dist)\n",
    "    cylinder_horzAng.append(horz_angle_deg)\n",
    "    cylinder_vertAng.append(vert_angle_deg)"
   ]
  },
  {
   "cell_type": "code",
   "execution_count": 45,
   "id": "fb67d6c1",
   "metadata": {},
   "outputs": [
    {
     "data": {
      "text/html": [
       "<div>\n",
       "<style scoped>\n",
       "    .dataframe tbody tr th:only-of-type {\n",
       "        vertical-align: middle;\n",
       "    }\n",
       "\n",
       "    .dataframe tbody tr th {\n",
       "        vertical-align: top;\n",
       "    }\n",
       "\n",
       "    .dataframe thead th {\n",
       "        text-align: right;\n",
       "    }\n",
       "</style>\n",
       "<table border=\"1\" class=\"dataframe\">\n",
       "  <thead>\n",
       "    <tr style=\"text-align: right;\">\n",
       "      <th></th>\n",
       "      <th>cluter_corner_dist</th>\n",
       "      <th>horz_angle</th>\n",
       "      <th>vert_angle</th>\n",
       "    </tr>\n",
       "  </thead>\n",
       "  <tbody>\n",
       "    <tr>\n",
       "      <th>0</th>\n",
       "      <td>0.466454</td>\n",
       "      <td>88.913688</td>\n",
       "      <td>37.197295</td>\n",
       "    </tr>\n",
       "    <tr>\n",
       "      <th>1</th>\n",
       "      <td>0.465004</td>\n",
       "      <td>87.905871</td>\n",
       "      <td>37.332978</td>\n",
       "    </tr>\n",
       "    <tr>\n",
       "      <th>2</th>\n",
       "      <td>0.463558</td>\n",
       "      <td>86.893027</td>\n",
       "      <td>37.469420</td>\n",
       "    </tr>\n",
       "    <tr>\n",
       "      <th>3</th>\n",
       "      <td>0.462116</td>\n",
       "      <td>85.875086</td>\n",
       "      <td>37.606583</td>\n",
       "    </tr>\n",
       "    <tr>\n",
       "      <th>4</th>\n",
       "      <td>0.460679</td>\n",
       "      <td>84.851978</td>\n",
       "      <td>37.744426</td>\n",
       "    </tr>\n",
       "  </tbody>\n",
       "</table>\n",
       "</div>"
      ],
      "text/plain": [
       "   cluter_corner_dist  horz_angle  vert_angle\n",
       "0            0.466454   88.913688   37.197295\n",
       "1            0.465004   87.905871   37.332978\n",
       "2            0.463558   86.893027   37.469420\n",
       "3            0.462116   85.875086   37.606583\n",
       "4            0.460679   84.851978   37.744426"
      ]
     },
     "execution_count": 45,
     "metadata": {},
     "output_type": "execute_result"
    }
   ],
   "source": [
    "cylinder_cor_dist_df = pd.DataFrame(cylinder_cor_dist,columns=['cluter_corner_dist'])\n",
    "cylinder_horzAng_df = pd.DataFrame(cylinder_horzAng,columns=['horz_angle'])\n",
    "cylinder_vertAng_df = pd.DataFrame(cylinder_vertAng,columns=['vert_angle'])\n",
    "\n",
    "clutterDsitAng_data = pd.concat([cylinder_cor_dist_df,cylinder_horzAng_df,cylinder_vertAng_df],axis=1)\n",
    "clutterDsitAng_data.head()"
   ]
  },
  {
   "cell_type": "code",
   "execution_count": 46,
   "id": "c5e26778",
   "metadata": {},
   "outputs": [],
   "source": [
    "check_clutter_DsitAng = os.path.exists('{}/clutterDsitAng_data.csv'.format(common_path))\n",
    "if not check_clutter_DsitAng:\n",
    "    clutterDsitAng_data.to_csv('{}/clutterDsitAng_data.csv'.format(common_path))\n",
    "    "
   ]
  },
  {
   "cell_type": "code",
   "execution_count": null,
   "id": "4716c7f8",
   "metadata": {},
   "outputs": [],
   "source": []
  }
 ],
 "metadata": {
  "kernelspec": {
   "display_name": "Python 3 (ipykernel)",
   "language": "python",
   "name": "python3"
  },
  "language_info": {
   "codemirror_mode": {
    "name": "ipython",
    "version": 3
   },
   "file_extension": ".py",
   "mimetype": "text/x-python",
   "name": "python",
   "nbconvert_exporter": "python",
   "pygments_lexer": "ipython3",
   "version": "3.8.5"
  }
 },
 "nbformat": 4,
 "nbformat_minor": 5
}
