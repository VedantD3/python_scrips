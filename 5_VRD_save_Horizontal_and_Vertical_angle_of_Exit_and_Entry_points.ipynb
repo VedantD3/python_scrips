{
 "cells": [
  {
   "cell_type": "markdown",
   "id": "d4f3dbfb",
   "metadata": {},
   "source": [
    "# Save the vertical and horizontal angle of exit and entry point with respect to the nest"
   ]
  },
  {
   "cell_type": "markdown",
   "id": "241396e6",
   "metadata": {},
   "source": [
    "#### The data is saved in recording floder in bee_id floder"
   ]
  },
  {
   "cell_type": "code",
   "execution_count": 1,
   "id": "0fd5543b",
   "metadata": {},
   "outputs": [],
   "source": [
    "import os\n",
    "import pandas as pd\n",
    "import numpy as np\n",
    "import math\n",
    "\n",
    "# matplot\n",
    "import matplotlib.pyplot as plt\n",
    "\n",
    "from matplotlib.projections import PolarAxes\n",
    "from mpl_toolkits.axisartist.floating_axes import GridHelperCurveLinear, FloatingSubplot\n",
    "import mpl_toolkits.axisartist.grid_finder as gf\n",
    "\n",
    "# Config\n",
    "import configparser"
   ]
  },
  {
   "cell_type": "code",
   "execution_count": 2,
   "id": "f9a75aee",
   "metadata": {},
   "outputs": [],
   "source": [
    "bee_id = '2R'\n",
    "recording = '20210414_163606'"
   ]
  },
  {
   "cell_type": "code",
   "execution_count": 8,
   "id": "b286bd59",
   "metadata": {},
   "outputs": [],
   "source": [
    "common_path = 'path'\n",
    "recording_condition = '{0}_learn'.format(recording)\n",
    "recording_path = os.path.join(common_path,bee_id,recording_condition)\n"
   ]
  },
  {
   "cell_type": "code",
   "execution_count": null,
   "id": "8c4a21ec",
   "metadata": {},
   "outputs": [],
   "source": [
    "recording_path"
   ]
  },
  {
   "cell_type": "code",
   "execution_count": null,
   "id": "e9a81a63",
   "metadata": {},
   "outputs": [],
   "source": [
    "# get the clutter data\n",
    "clutter_arena_data = pd.read_csv('{}/clutter_arena_data.csv'.format(common_path))\n",
    "clutter_arena_data"
   ]
  },
  {
   "cell_type": "code",
   "execution_count": 11,
   "id": "f2cceb1e",
   "metadata": {},
   "outputs": [
    {
     "name": "stdout",
     "output_type": "stream",
     "text": [
      "[0.03, 0.1]\n",
      "[0.1114472763814532, 0.371490921271511]\n"
     ]
    }
   ],
   "source": [
    "# nest location\n",
    "nest_loc = list([clutter_data.nest_loc_x[0],clutter_data.nest_loc_y[0]])\n",
    "othrer_point = list([clutter_data.other_pt_x[0],clutter_data.other_pt_y[0]])\n",
    "print(nest_loc)\n",
    "print(othrer_point)"
   ]
  },
  {
   "cell_type": "markdown",
   "id": "9e168a64",
   "metadata": {},
   "source": [
    "#### Getting the exit points"
   ]
  },
  {
   "cell_type": "code",
   "execution_count": 17,
   "id": "04f2d26a",
   "metadata": {
    "scrolled": true
   },
   "outputs": [
    {
     "data": {
      "text/html": [
       "<div>\n",
       "<style scoped>\n",
       "    .dataframe tbody tr th:only-of-type {\n",
       "        vertical-align: middle;\n",
       "    }\n",
       "\n",
       "    .dataframe tbody tr th {\n",
       "        vertical-align: top;\n",
       "    }\n",
       "\n",
       "    .dataframe thead th {\n",
       "        text-align: right;\n",
       "    }\n",
       "</style>\n",
       "<table border=\"1\" class=\"dataframe\">\n",
       "  <thead>\n",
       "    <tr style=\"text-align: right;\">\n",
       "      <th></th>\n",
       "      <th>Unnamed: 0</th>\n",
       "      <th>x_mean</th>\n",
       "      <th>y_mean</th>\n",
       "      <th>z_mean</th>\n",
       "      <th>time_mean</th>\n",
       "    </tr>\n",
       "  </thead>\n",
       "  <tbody>\n",
       "    <tr>\n",
       "      <th>0</th>\n",
       "      <td>0</td>\n",
       "      <td>-0.107131</td>\n",
       "      <td>0.102703</td>\n",
       "      <td>0.298301</td>\n",
       "      <td>16.712</td>\n",
       "    </tr>\n",
       "    <tr>\n",
       "      <th>1</th>\n",
       "      <td>1</td>\n",
       "      <td>-0.053259</td>\n",
       "      <td>0.084777</td>\n",
       "      <td>0.314446</td>\n",
       "      <td>18.800</td>\n",
       "    </tr>\n",
       "    <tr>\n",
       "      <th>2</th>\n",
       "      <td>2</td>\n",
       "      <td>0.200654</td>\n",
       "      <td>-0.080339</td>\n",
       "      <td>0.280829</td>\n",
       "      <td>26.176</td>\n",
       "    </tr>\n",
       "    <tr>\n",
       "      <th>3</th>\n",
       "      <td>3</td>\n",
       "      <td>-0.186976</td>\n",
       "      <td>-0.094078</td>\n",
       "      <td>0.282151</td>\n",
       "      <td>27.928</td>\n",
       "    </tr>\n",
       "    <tr>\n",
       "      <th>4</th>\n",
       "      <td>4</td>\n",
       "      <td>-0.196730</td>\n",
       "      <td>-0.027990</td>\n",
       "      <td>0.274667</td>\n",
       "      <td>29.664</td>\n",
       "    </tr>\n",
       "  </tbody>\n",
       "</table>\n",
       "</div>"
      ],
      "text/plain": [
       "   Unnamed: 0    x_mean    y_mean    z_mean  time_mean\n",
       "0           0 -0.107131  0.102703  0.298301     16.712\n",
       "1           1 -0.053259  0.084777  0.314446     18.800\n",
       "2           2  0.200654 -0.080339  0.280829     26.176\n",
       "3           3 -0.186976 -0.094078  0.282151     27.928\n",
       "4           4 -0.196730 -0.027990  0.274667     29.664"
      ]
     },
     "execution_count": 17,
     "metadata": {},
     "output_type": "execute_result"
    }
   ],
   "source": [
    "# getting the exit point data\n",
    "exit_mid_mean = pd.read_csv('{0}/exitmid_mean_df_{1}.csv'.format(recording_path,recording_condition),\n",
    "                       header=[0]) # in_mid_out direction data\n",
    "exit_mid_mean.head()"
   ]
  },
  {
   "cell_type": "markdown",
   "id": "3c9f02a0",
   "metadata": {},
   "source": [
    "#### Getting the entry points"
   ]
  },
  {
   "cell_type": "code",
   "execution_count": 18,
   "id": "68c637fb",
   "metadata": {},
   "outputs": [
    {
     "data": {
      "text/html": [
       "<div>\n",
       "<style scoped>\n",
       "    .dataframe tbody tr th:only-of-type {\n",
       "        vertical-align: middle;\n",
       "    }\n",
       "\n",
       "    .dataframe tbody tr th {\n",
       "        vertical-align: top;\n",
       "    }\n",
       "\n",
       "    .dataframe thead th {\n",
       "        text-align: right;\n",
       "    }\n",
       "</style>\n",
       "<table border=\"1\" class=\"dataframe\">\n",
       "  <thead>\n",
       "    <tr style=\"text-align: right;\">\n",
       "      <th></th>\n",
       "      <th>Unnamed: 0</th>\n",
       "      <th>x_mean</th>\n",
       "      <th>y_mean</th>\n",
       "      <th>z_mean</th>\n",
       "      <th>time_mean</th>\n",
       "    </tr>\n",
       "  </thead>\n",
       "  <tbody>\n",
       "    <tr>\n",
       "      <th>0</th>\n",
       "      <td>0</td>\n",
       "      <td>-0.033503</td>\n",
       "      <td>0.104626</td>\n",
       "      <td>0.286958</td>\n",
       "      <td>17.800</td>\n",
       "    </tr>\n",
       "    <tr>\n",
       "      <th>1</th>\n",
       "      <td>1</td>\n",
       "      <td>0.100700</td>\n",
       "      <td>0.054905</td>\n",
       "      <td>0.290762</td>\n",
       "      <td>24.960</td>\n",
       "    </tr>\n",
       "    <tr>\n",
       "      <th>2</th>\n",
       "      <td>2</td>\n",
       "      <td>-0.107741</td>\n",
       "      <td>-0.088729</td>\n",
       "      <td>0.274880</td>\n",
       "      <td>26.816</td>\n",
       "    </tr>\n",
       "    <tr>\n",
       "      <th>3</th>\n",
       "      <td>3</td>\n",
       "      <td>-0.186955</td>\n",
       "      <td>-0.093227</td>\n",
       "      <td>0.276602</td>\n",
       "      <td>28.544</td>\n",
       "    </tr>\n",
       "    <tr>\n",
       "      <th>4</th>\n",
       "      <td>4</td>\n",
       "      <td>0.004631</td>\n",
       "      <td>-0.050926</td>\n",
       "      <td>0.270391</td>\n",
       "      <td>71.232</td>\n",
       "    </tr>\n",
       "  </tbody>\n",
       "</table>\n",
       "</div>"
      ],
      "text/plain": [
       "   Unnamed: 0    x_mean    y_mean    z_mean  time_mean\n",
       "0           0 -0.033503  0.104626  0.286958     17.800\n",
       "1           1  0.100700  0.054905  0.290762     24.960\n",
       "2           2 -0.107741 -0.088729  0.274880     26.816\n",
       "3           3 -0.186955 -0.093227  0.276602     28.544\n",
       "4           4  0.004631 -0.050926  0.270391     71.232"
      ]
     },
     "execution_count": 18,
     "metadata": {},
     "output_type": "execute_result"
    }
   ],
   "source": [
    "# getting the entry point data\n",
    "entry_mid_mean = pd.read_csv('{0}/entrymid_mean_df_{1}.csv'.format(recording_path,recording_condition),\n",
    "                       header=[0]) # out_mid_in direction data\n",
    "entry_mid_mean.head()"
   ]
  },
  {
   "cell_type": "markdown",
   "id": "92d40ab2",
   "metadata": {},
   "source": [
    "# Getting actual distance, horizontal angle, vertical angle of exit and entry points"
   ]
  },
  {
   "cell_type": "code",
   "execution_count": null,
   "id": "945431d2",
   "metadata": {},
   "outputs": [],
   "source": [
    "\n",
    "def get_dist_angle_HorzVert (mid_mean_df, nest_loc,othrer_point):\n",
    "    \n",
    "    ''' The function calculates the dsitance in 3D, horizontal angle and vertical angle'''\n",
    "    \n",
    "    Point_actDist = list() # exit point actual distance\n",
    "    Point_horzAng_deg = list() # exit point horizontal angle\n",
    "    Point_vertAng_deg = list() #exit point vertical angle\n",
    "    x_coord = list(mid_mean_df.x_mean)\n",
    "    y_coord = list(mid_mean_df.y_mean)\n",
    "    z_coord = list(mid_mean_df.z_mean)\n",
    "\n",
    "    for ii in range(len(x_coord)):\n",
    "        dist = np.sqrt((nest_loc[0]-x_coord[ii])**2 + \n",
    "                            (nest_loc[1]-y_coord[ii])**2 + \n",
    "                            (z_coord[ii]**2))\n",
    "        # Horizontal angle\n",
    "\n",
    "    horz_angle_rad = (np.arctan2((x_coord[ii]-nest_loc[0]),(y_coord[ii]-nest_loc[1])) - \n",
    "                                np.arctan2((othrer_point[0]-nest_loc[0]),(othrer_point[1]-nest_loc[1])))\n",
    "        horz_angle_deg = np.rad2deg(horz_angle_rad % (2 * np.pi))\n",
    "# --------------------------------------alternative ----------------------------------------------------------\n",
    "\n",
    "        # vertical angle\n",
    "        vert_angle_deg = np.degrees(np.arcsin(z_coord[ii]/dist))\n",
    "\n",
    "        Point_actDist.append(dist)\n",
    "        Point_horzAng_deg.append(horz_angle_deg)\n",
    "        Point_vertAng_deg.append(vert_angle_deg)\n",
    "        \n",
    "    return (Point_actDist,Point_horzAng_deg,Point_vertAng_deg)"
   ]
  },
  {
   "cell_type": "code",
   "execution_count": null,
   "id": "41e90ef6",
   "metadata": {},
   "outputs": [],
   "source": [
    "exitPoint_actDist,exitPoint_horzAng,exitPoint_vertAng = get_dist_angle_HorzVert(exit_mid_mean,nest_loc,othrer_point)"
   ]
  },
  {
   "cell_type": "code",
   "execution_count": null,
   "id": "c6aafc2c",
   "metadata": {},
   "outputs": [],
   "source": [
    "print(exitPoint_actDist[0:5])\n",
    "print(exitPoint_horzAng[0:5])\n",
    "print(exitPoint_vertAng[0:5])"
   ]
  },
  {
   "cell_type": "code",
   "execution_count": null,
   "id": "2e07827f",
   "metadata": {},
   "outputs": [],
   "source": [
    "entryPoint_actDist, entryPoint_horzAng, entryPoint_vertAng = get_dist_angle_HorzVert(entry_mid_mean,nest_loc,othrer_point)"
   ]
  },
  {
   "cell_type": "code",
   "execution_count": null,
   "id": "555d55bf",
   "metadata": {},
   "outputs": [],
   "source": [
    "print(entryPoint_actDist[0:5])\n",
    "print(entryPoint_horzAng[0:5])\n",
    "print(entryPoint_vertAng[0:5])"
   ]
  },
  {
   "cell_type": "markdown",
   "id": "b398cd8c",
   "metadata": {},
   "source": [
    "#### Ploting the histogram "
   ]
  },
  {
   "cell_type": "code",
   "execution_count": null,
   "id": "c892f090",
   "metadata": {},
   "outputs": [],
   "source": [
    "# ploting hozrizontal angle out of 360\n",
    "\n",
    "plt.hist(exitPoint_horzAng, bins=90)\n",
    "\n",
    "# fig1, ax = plt.subplots(figsize=(10,6))\n",
    "# ax.hist(exitPoint_horzAng, bins=90)\n",
    "# ax.set_xlabel('Horizontal angle')\n",
    "# ax.set_ylabel('Exit points')\n",
    "# ax.set_title('Horizontal angle of exit points')\n",
    "# plt.xlim([0,360])"
   ]
  },
  {
   "cell_type": "code",
   "execution_count": null,
   "id": "69bc1519",
   "metadata": {},
   "outputs": [],
   "source": [
    "# plot entry horizontal angle \n",
    "\n",
    "plt.hist(entryPoint_horzAng)\n",
    "\n",
    "# fig2, ax = plt.subplots(figsize=(10,6))\n",
    "# ax.hist(entryPoint_horzAng, bins=90)\n",
    "\n",
    "# ax.set_xlabel('Horizontal angle')\n",
    "# ax.set_ylabel('Entry points')\n",
    "# ax.set_title('Horizontal angle of entry points')\n",
    "# plt.xlim([0,360])\n"
   ]
  },
  {
   "cell_type": "code",
   "execution_count": null,
   "id": "7663364e",
   "metadata": {},
   "outputs": [],
   "source": [
    "plt.hist(exitPoint_vertAng)"
   ]
  },
  {
   "cell_type": "code",
   "execution_count": null,
   "id": "01b39cda",
   "metadata": {},
   "outputs": [],
   "source": [
    "# plot entry point vertical angles\n",
    "\n",
    "plt.hist(entryPoint_vertAng)\n",
    "\n",
    "# fig4, ax = plt.subplots(figsize=(10,6))\n",
    "# ax.hist(entryPoint_vertAng, bins=90)\n",
    "# ax.set_xlabel('Vertical angle')\n",
    "# ax.set_ylabel('Entry points')\n",
    "# ax.set_title('Vertical angle entry point')\n",
    "# plt.xlim([0,90])\n"
   ]
  },
  {
   "cell_type": "code",
   "execution_count": null,
   "id": "f7fbfae5",
   "metadata": {},
   "outputs": [],
   "source": [
    "clutterDsitAng_data = pd.read_csv('{}/clutterDsitAng_data.csv'.format(common_path))\n",
    "clutterDsitAng_data.head()"
   ]
  },
  {
   "cell_type": "code",
   "execution_count": null,
   "id": "e9c81d2d",
   "metadata": {},
   "outputs": [],
   "source": [
    "clutter_horzAng = list(clutterDsitAng_data.horz_angle)\n",
    "clutter_vertAng = list(clutterDsitAng_data.vert_angle)"
   ]
  },
  {
   "cell_type": "markdown",
   "id": "275247a3",
   "metadata": {},
   "source": [
    "### vert angle vs horz angle"
   ]
  },
  {
   "cell_type": "code",
   "execution_count": null,
   "id": "245ca7ba",
   "metadata": {
    "scrolled": true
   },
   "outputs": [],
   "source": [
    "# plotting vertical angle against horizontal angle\n",
    "fig5, ax = plt.subplots(figsize=(11,8))\n",
    "ax.scatter(exitPoint_horzAng,exitPoint_vertAng,label = 'Exit')\n",
    "ax.scatter(entryPoint_horzAng,entryPoint_vertAng, label = 'Entry')\n",
    "ax.set_xlabel('Horizontal angle')\n",
    "ax.set_ylabel('Vertical angle')\n",
    "ax.set_title('Vertical Vs Horizontal angle_exit/entry points_{0}_{1}'.format(bee_id,recording_condition))\n",
    "# plot the line at cylinder angle \n",
    "ax.scatter(clutter_horzAng,clutter_vertAng,color = 'green')\n",
    "ax.legend()\n",
    "\n",
    "# both have same length, in case not\n",
    "exit_annot_list = list(range(len(exitPoint_horzAng)))\n",
    "entry_annot_list = list(range(len(entryPoint_horzAng)))\n",
    "\n",
    "# lableling\n",
    "label = 'corner angle'\n",
    "ax.text(304,37, '%s' %label, color = 'red',size = 15)\n",
    "\n",
    "for ii in range(len(exit_annot_list)):\n",
    "    label = ('{}'.format(exit_annot_list[ii]))\n",
    "    ax.text(exitPoint_horzAng[ii],exitPoint_vertAng[ii], '%s' %label, color = 'black',size = 10)\n",
    "for ii in range(len(entry_annot_list)):\n",
    "    label = ('{}'.format(entry_annot_list[ii]))\n",
    "    ax.text(entryPoint_horzAng[ii],entryPoint_vertAng[ii], '%s' %label, color = 'red',size = 10)\n",
    "plt.xlim([0,360])\n",
    "plt.ylim([0,90])\n",
    "plt.show()\n"
   ]
  },
  {
   "cell_type": "code",
   "execution_count": null,
   "id": "1b13f698",
   "metadata": {},
   "outputs": [],
   "source": [
    "check_fig5 = os.path.exists(('{0}/vert_VS_horz_{1}.png'.format(recording_path,recording_condition)))\n",
    "if not check_fig5:\n",
    "    fig5.savefig('{0}/vert_VS_horz_{1}.png'.format(recording_path,recording))"
   ]
  },
  {
   "cell_type": "markdown",
   "id": "387ff4e0",
   "metadata": {},
   "source": [
    "# Saving the exit and entry data"
   ]
  },
  {
   "cell_type": "markdown",
   "id": "35475a25",
   "metadata": {},
   "source": [
    "#### Saving the distance and angle of exit and entry points "
   ]
  },
  {
   "cell_type": "code",
   "execution_count": null,
   "id": "bf444d1e",
   "metadata": {},
   "outputs": [],
   "source": [
    "exitPoint_actDist_df = pd.DataFrame(exitPoint_actDist,columns=['distance_3D'])\n",
    "exitPoint_horzAng_df = pd.DataFrame(exitPoint_horzAng,columns=['horz_angle'])\n",
    "exitPoint_vertAng_df = pd.DataFrame(exitPoint_vertAng,columns=['vert_angle'])\n",
    "exitDistAng_data = pd.concat([exitPoint_actDist_df,exitPoint_horzAng_df,exitPoint_vertAng_df],axis=1)\n",
    "exitDistAng_data.head()"
   ]
  },
  {
   "cell_type": "code",
   "execution_count": null,
   "id": "ee7a410c",
   "metadata": {},
   "outputs": [],
   "source": [
    "entryPoint_actDist_df = pd.DataFrame(entryPoint_actDist,columns=['distance_3D'])\n",
    "entryPoint_horzAng_df = pd.DataFrame(entryPoint_horzAng,columns=['horz_angle'])\n",
    "entryPoint_vertAng_df = pd.DataFrame(entryPoint_vertAng,columns=['vert_angle'])\n",
    "entryDistAng_data = pd.concat([entryPoint_actDist_df,entryPoint_horzAng_df,entryPoint_vertAng_df],axis=1)\n",
    "entryDistAng_data.head()"
   ]
  },
  {
   "cell_type": "code",
   "execution_count": null,
   "id": "bde7d961",
   "metadata": {},
   "outputs": [],
   "source": [
    "# saving the exit data\n",
    "check_exit_data = os.path.exists('{0}/exitDistAng_data_{1}.csv'.format(recording_path,recording_condition))\n",
    "if not check_exit_data:\n",
    "    exitDistAng_data.to_csv('{0}/exitDistAng_data_{1}.csv'.format(recording_path,recording_condition))\n",
    "\n",
    "# saving the entry data\n",
    "check_entry_data = os.path.exists('{0}/entryDistAng_data_{1}.csv'.format(recording_path,recording_condition))\n",
    "if not check_entry_data:\n",
    "    entryDistAng_data.to_csv('{0}/entryDistAng_data_{1}.csv'.format(recording_path,recording_condition))"
   ]
  }
 ],
 "metadata": {
  "kernelspec": {
   "display_name": "Python 3 (ipykernel)",
   "language": "python",
   "name": "python3"
  },
  "language_info": {
   "codemirror_mode": {
    "name": "ipython",
    "version": 3
   },
   "file_extension": ".py",
   "mimetype": "text/x-python",
   "name": "python",
   "nbconvert_exporter": "python",
   "pygments_lexer": "ipython3",
   "version": "3.8.5"
  }
 },
 "nbformat": 4,
 "nbformat_minor": 5
}
